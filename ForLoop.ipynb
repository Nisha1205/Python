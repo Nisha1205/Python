{
 "cells": [
  {
   "cell_type": "markdown",
   "metadata": {},
   "source": []
  },
  {
   "cell_type": "markdown",
   "metadata": {},
   "source": [
    "For Loop in Python"
   ]
  },
  {
   "cell_type": "code",
   "execution_count": 6,
   "metadata": {},
   "outputs": [
    {
     "name": "stdout",
     "output_type": "stream",
     "text": [
      "0\n",
      "1\n",
      "2\n",
      "3\n",
      "4\n",
      "5\n",
      "6\n",
      "7\n",
      "8\n",
      "9\n"
     ]
    }
   ],
   "source": [
    "# A Simple For Loop  (Range is used to specify the boudnry of a number starting from 0) \n",
    "for i in range(10):\n",
    "    print (i)\n",
    "    "
   ]
  },
  {
   "cell_type": "code",
   "execution_count": 7,
   "metadata": {},
   "outputs": [
    {
     "name": "stdout",
     "output_type": "stream",
     "text": [
      "2\n",
      "3\n",
      "4\n",
      "5\n",
      "6\n",
      "7\n",
      "8\n",
      "9\n"
     ]
    }
   ],
   "source": [
    "#Now telling to start from 2 in the range\n",
    "for i in range (2,10):\n",
    "        print (i)"
   ]
  },
  {
   "cell_type": "code",
   "execution_count": 9,
   "metadata": {},
   "outputs": [
    {
     "name": "stdout",
     "output_type": "stream",
     "text": [
      "2\n",
      "4\n",
      "6\n",
      "8\n"
     ]
    }
   ],
   "source": [
    "#Now telling to start from 2 in the range with increment of 2\n",
    "for i in range (2,10,2):\n",
    "        print (i)"
   ]
  },
  {
   "cell_type": "markdown",
   "metadata": {},
   "source": [
    "<div>\n",
    "    <font size=4 face=verdana color=blue><HR><BR>Accept a number from user and display it's Table</font>\n",
    "</div>"
   ]
  },
  {
   "cell_type": "code",
   "execution_count": 15,
   "metadata": {},
   "outputs": [
    {
     "name": "stdout",
     "output_type": "stream",
     "text": [
      "Enter a Number:40\n",
      "1  X  1  =  40\n",
      "2  X  2  =  80\n",
      "3  X  3  =  120\n",
      "4  X  4  =  160\n",
      "5  X  5  =  200\n",
      "6  X  6  =  240\n",
      "7  X  7  =  280\n",
      "8  X  8  =  320\n",
      "9  X  9  =  360\n",
      "10  X  10  =  400\n"
     ]
    }
   ],
   "source": [
    "#Accept a number from user and display it's Table\n",
    "n=int(input(\"Enter a Number:\"))\n",
    "for i in range(1,11):\n",
    "    print(i, \" X \" ,i, \" = \" ,i*n)"
   ]
  },
  {
   "cell_type": "code",
   "execution_count": 25,
   "metadata": {},
   "outputs": [
    {
     "name": "stdout",
     "output_type": "stream",
     "text": [
      "Enter a number:5\n",
      "[1, 2, 3, 4, 5]\n",
      "Addition of all values : 15\n"
     ]
    }
   ],
   "source": [
    "#Accept a number and store values till this numner in a list \n",
    "#and display addition of all these values\n",
    "sum=0\n",
    "num=int(input(\"Enter a number:\"))\n",
    "series=list(range(1,num+1))\n",
    "#The list is stored in series and its being printed\n",
    "print(series)\n",
    "#Now adding up all values\n",
    "for i in range(1+num):\n",
    "    sum+=i\n",
    "print(\"Addition of all values :\", sum)"
   ]
  },
  {
   "cell_type": "code",
   "execution_count": null,
   "metadata": {},
   "outputs": [],
   "source": []
  },
  {
   "cell_type": "code",
   "execution_count": null,
   "metadata": {},
   "outputs": [],
   "source": []
  }
 ],
 "metadata": {
  "kernelspec": {
   "display_name": "Python 3",
   "language": "python",
   "name": "python3"
  },
  "language_info": {
   "codemirror_mode": {
    "name": "ipython",
    "version": 3
   },
   "file_extension": ".py",
   "mimetype": "text/x-python",
   "name": "python",
   "nbconvert_exporter": "python",
   "pygments_lexer": "ipython3",
   "version": "3.7.6"
  }
 },
 "nbformat": 4,
 "nbformat_minor": 4
}
