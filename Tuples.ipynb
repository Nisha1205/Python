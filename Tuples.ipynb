{
 "cells": [
  {
   "attachments": {},
   "cell_type": "markdown",
   "metadata": {},
   "source": [
    "<DIV>\n",
    "    <HR>\n",
    "    <Font face=\"Century Gothic\" size=5 color=red>\n",
    "Creating Tuple, Various Operations, Slicing\n",
    "        <HR>\n",
    "    </Font>\n",
    "        </DIV>![CMS-Business-School-Logo.png](attachment:CMS-Business-School-Logo.png)"
   ]
  },
  {
   "cell_type": "code",
   "execution_count": 1,
   "metadata": {},
   "outputs": [],
   "source": [
    "#Create a Tuple, The bracket here is (  and   ) , it is nonmutable in nature\n",
    "myTup=('Rupesh Kumar Sinha','Anish','Diviya Lakshmi','Harshil')"
   ]
  },
  {
   "cell_type": "code",
   "execution_count": 2,
   "metadata": {},
   "outputs": [
    {
     "name": "stdout",
     "output_type": "stream",
     "text": [
      "('Rupesh Kumar Sinha', 'Anish', 'Diviya Lakshmi', 'Harshil')\n"
     ]
    }
   ],
   "source": [
    "print(myTup)"
   ]
  },
  {
   "cell_type": "code",
   "execution_count": 6,
   "metadata": {},
   "outputs": [],
   "source": [
    "myTup1=('RKSinha',44,'Anish',21.5,25000,'Diviya')\n",
    "myList=['RKSinha',44,'Anish',21.5,25000,'Diviya']"
   ]
  },
  {
   "cell_type": "code",
   "execution_count": 7,
   "metadata": {},
   "outputs": [
    {
     "name": "stdout",
     "output_type": "stream",
     "text": [
      "<class 'tuple'>\n",
      "<class 'tuple'>\n",
      "<class 'list'>\n"
     ]
    }
   ],
   "source": [
    "print(type(myTup))\n",
    "print(type(myTup1))\n",
    "print(type(myList))"
   ]
  },
  {
   "cell_type": "code",
   "execution_count": 8,
   "metadata": {},
   "outputs": [
    {
     "name": "stdout",
     "output_type": "stream",
     "text": [
      "Anish\n"
     ]
    }
   ],
   "source": [
    "#Accessing elements of the Tuple\n",
    "print(myTup[1])"
   ]
  },
  {
   "cell_type": "code",
   "execution_count": 13,
   "metadata": {},
   "outputs": [
    {
     "ename": "TypeError",
     "evalue": "'tuple' object does not support item assignment",
     "output_type": "error",
     "traceback": [
      "\u001b[1;31m---------------------------------------------------------------------------\u001b[0m",
      "\u001b[1;31mTypeError\u001b[0m                                 Traceback (most recent call last)",
      "\u001b[1;32m<ipython-input-13-0097a624db52>\u001b[0m in \u001b[0;36m<module>\u001b[1;34m\u001b[0m\n\u001b[0;32m      1\u001b[0m \u001b[1;31m#The Error after execution shows that we cannot change the elements of the Tuple\u001b[0m\u001b[1;33m\u001b[0m\u001b[1;33m\u001b[0m\u001b[1;33m\u001b[0m\u001b[0m\n\u001b[0;32m      2\u001b[0m \u001b[0mmyList\u001b[0m\u001b[1;33m[\u001b[0m\u001b[1;36m0\u001b[0m\u001b[1;33m]\u001b[0m\u001b[1;33m=\u001b[0m\u001b[1;34m'Chinmay Jain'\u001b[0m\u001b[1;33m\u001b[0m\u001b[1;33m\u001b[0m\u001b[0m\n\u001b[1;32m----> 3\u001b[1;33m \u001b[0mmyTup1\u001b[0m\u001b[1;33m[\u001b[0m\u001b[1;36m0\u001b[0m\u001b[1;33m]\u001b[0m\u001b[1;33m=\u001b[0m\u001b[1;34m'Chinmay Jain'\u001b[0m\u001b[1;33m\u001b[0m\u001b[1;33m\u001b[0m\u001b[0m\n\u001b[0m",
      "\u001b[1;31mTypeError\u001b[0m: 'tuple' object does not support item assignment"
     ]
    }
   ],
   "source": [
    "#The Error after execution shows that we cannot change the elements of the Tuple\n",
    "myList[0]='Chinmay Jain'\n",
    "myTup1[0]='Chinmay Jain'\n"
   ]
  },
  {
   "cell_type": "code",
   "execution_count": 14,
   "metadata": {},
   "outputs": [
    {
     "data": {
      "text/plain": [
       "['Chinmay Jain', 44, 'Anish', 21.5, 25000, 'Diviya']"
      ]
     },
     "execution_count": 14,
     "metadata": {},
     "output_type": "execute_result"
    }
   ],
   "source": [
    "myList"
   ]
  },
  {
   "cell_type": "code",
   "execution_count": 18,
   "metadata": {},
   "outputs": [
    {
     "name": "stdout",
     "output_type": "stream",
     "text": [
      "RKSinha\n",
      "44\n",
      "Anish\n",
      "21.5\n",
      "25000\n",
      "Diviya\n"
     ]
    }
   ],
   "source": [
    "#Looping through all elements of a Tuple\n",
    "for i in myTup1:\n",
    "    print (i)"
   ]
  },
  {
   "cell_type": "code",
   "execution_count": 22,
   "metadata": {},
   "outputs": [
    {
     "name": "stdout",
     "output_type": "stream",
     "text": [
      "(50, 100, 150, 200, 250, 300, 350, 400, 450, 500, 550, 600, 650, 700, 750, 800, 850, 900, 950, 1000)\n"
     ]
    }
   ],
   "source": [
    "#Create a Tuple with values from 50 to 1000 with increment of 50 and display them\n",
    "TupSer=tuple(range(50,1001,50))\n",
    "print(TupSer)"
   ]
  },
  {
   "cell_type": "code",
   "execution_count": null,
   "metadata": {},
   "outputs": [],
   "source": [
    "#From the above tuple put all values which are multiplication of 100s put it in a seprate list \n",
    "#and rest in one more list\n"
   ]
  },
  {
   "cell_type": "code",
   "execution_count": 28,
   "metadata": {},
   "outputs": [
    {
     "name": "stdout",
     "output_type": "stream",
     "text": [
      "True\n",
      "False\n"
     ]
    }
   ],
   "source": [
    "#You can use 'in'  keword to find out if any element is present in the Tuple or not\n",
    "#Ifit returns True the calue is present and if it returns False, it is not present\n",
    "\n",
    "print('RKSinha' in myTup1)\n",
    "\n",
    "print('HArshil' in myTup)"
   ]
  },
  {
   "cell_type": "code",
   "execution_count": 44,
   "metadata": {},
   "outputs": [
    {
     "name": "stdout",
     "output_type": "stream",
     "text": [
      "Enter name of a fruit:Kackfruit\n",
      "kackfruit  is not present in our List\n"
     ]
    }
   ],
   "source": [
    "#Create a Tuple with 5 names and accept a name from the user and check if that name is present in the Tuple or not\n",
    "\n",
    "Fruits=('apple','mango','grapes','banana','orange')\n",
    "fruit=input(\"Enter name of a fruit:\")\n",
    "fruit=fruit.lower()\n",
    "\n",
    "if(fruit in Fruits):\n",
    "    \n",
    "    print(fruit,\" is present in our List\")\n",
    "    \n",
    "else:\n",
    "    print(fruit,\" is not present in our List\")\n",
    "\n",
    "\n"
   ]
  },
  {
   "cell_type": "code",
   "execution_count": 38,
   "metadata": {},
   "outputs": [
    {
     "name": "stdout",
     "output_type": "stream",
     "text": [
      "List 50 is --> [50, 150, 250, 350, 450, 550, 650, 750, 850, 950]\n",
      "List 100 is--> [100, 200, 300, 400, 500, 600, 700, 800, 900, 1000]\n"
     ]
    }
   ],
   "source": [
    "lst50=[]\n",
    "lst100=[]\n",
    "myFiftySer=tuple(range(50,1001,50))\n",
    "\n",
    "for i in myFiftySer:\n",
    "    if i%100==0:\n",
    "        lst100.append(i)\n",
    "    else:\n",
    "        lst50.append(i)\n",
    "\n",
    "print(\"List 50 is -->\", lst50)\n",
    "print(\"List 100 is-->\", lst100)"
   ]
  },
  {
   "cell_type": "code",
   "execution_count": 40,
   "metadata": {},
   "outputs": [
    {
     "name": "stdout",
     "output_type": "stream",
     "text": [
      "Rupesh\n"
     ]
    }
   ],
   "source": [
    "#Dictionary: It consists of Key and Value\n",
    "myDict={'name':'Rupesh','Age':43,'address':'Bangalore'}\n",
    "print(myDict['name'])"
   ]
  },
  {
   "cell_type": "code",
   "execution_count": null,
   "metadata": {},
   "outputs": [],
   "source": []
  }
 ],
 "metadata": {
  "kernelspec": {
   "display_name": "Python 3",
   "language": "python",
   "name": "python3"
  },
  "language_info": {
   "codemirror_mode": {
    "name": "ipython",
    "version": 3
   },
   "file_extension": ".py",
   "mimetype": "text/x-python",
   "name": "python",
   "nbconvert_exporter": "python",
   "pygments_lexer": "ipython3",
   "version": "3.7.6"
  }
 },
 "nbformat": 4,
 "nbformat_minor": 4
}
