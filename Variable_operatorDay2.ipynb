{
 "cells": [
  {
   "cell_type": "markdown",
   "metadata": {},
   "source": [
    "# Ju - Julia   Pyt - Python   r - R \n",
    "## Variables and Operators\n",
    "Airtmatic Operators\n",
    "Comp. Operators ==  !=  <=  >=   <   >\n",
    "Assignment Operator\n",
    "Press B to insert a line Below\n",
    "Press A to insert a line Above\n",
    "Press Shift + Enter or Ctrl + Enter to Execute\n",
    "BA1"
   ]
  },
  {
   "cell_type": "code",
   "execution_count": 3,
   "metadata": {},
   "outputs": [
    {
     "name": "stdout",
     "output_type": "stream",
     "text": [
      "<class 'int'>\n",
      "<class 'float'>\n",
      "<class 'str'>\n"
     ]
    }
   ],
   "source": [
    "\n",
    "n1_int=29\n",
    "n2_int=10\n",
    "\n",
    "na=\"Sophia Kagzi\"\n",
    "\n",
    "n1_flt=25.0\n",
    "n2_flt=10.0\n",
    "#Below lines will print types of the Variable\n",
    "print(type(n1_int))\n",
    "print(type(n2_flt))\n",
    "print(type(na))\n"
   ]
  },
  {
   "cell_type": "code",
   "execution_count": 10,
   "metadata": {},
   "outputs": [
    {
     "name": "stdout",
     "output_type": "stream",
     "text": [
      "Enter a number:500\n",
      "Enter a number:25\n",
      "Enter an Operator + - / * % :*\n",
      "The calcuated value is 12500  and you selected  *  Operator.\n"
     ]
    }
   ],
   "source": [
    "#accept two numbers and a operator from the user and perform various mathematical operations\n",
    "n1=int(input(\"Enter a number:\"))\n",
    "n2=int(input(\"Enter a number:\"))\n",
    "#print(n1==n2)\n",
    "op=input(\"Enter an Operator + - / * % :\")\n",
    "\n",
    "if(op=='+'):\n",
    "    ans=n1+n2\n",
    "elif(op=='-'):\n",
    "    ans=n1-n2\n",
    "elif(op=='/'):\n",
    "    ans=n1/n2\n",
    "elif(op=='*'):\n",
    "    ans=n1*n2\n",
    "elif(op=='%'):\n",
    "    ans=n1%n2\n",
    "else:\n",
    "    ans=\"Wrong Choice of Operator!!!!\"\n",
    "\n",
    "print(\"The calcuated value is\", ans, \" and you selected \", op, \" Operator.\")"
   ]
  },
  {
   "cell_type": "markdown",
   "metadata": {},
   "source": [
    "##     !=    Not equal to"
   ]
  },
  {
   "cell_type": "code",
   "execution_count": 14,
   "metadata": {},
   "outputs": [
    {
     "name": "stdout",
     "output_type": "stream",
     "text": [
      "Enter Your name :Kushal\n",
      "Ener your password :Sinha\n",
      "Welcome  Kushal You entered  Sinha\n",
      "Welcome to the world of Programming!\n",
      "Python is Awesome!\n"
     ]
    }
   ],
   "source": [
    "na=input(\"Enter Your name :\")\n",
    "pwd=input(\"Ener your password :\")\n",
    "if(pwd!=\"Sinha\"):\n",
    "    print(\"Good Bye! Password is Wrong!\")\n",
    "else:\n",
    "    print(\"Welcome \", na, \"You entered \", pwd)\n",
    "    print(\"Welcome to the world of Programming!\")\n",
    "    print(\"Python is Awesome!\")\n",
    "        "
   ]
  },
  {
   "cell_type": "code",
   "execution_count": null,
   "metadata": {},
   "outputs": [],
   "source": [
    "#Accept 3 numbers from the user and display the largest value\n",
    "#If condition\n",
    "n1=int(input(\"Enter a number :\"))\n",
    "n2=int(input(\"Enter a number :\"))\n",
    "n3=int(input(\"Enter a number :\"))\n",
    "\n",
    "if(n1>n2):\n",
    "       larg=n1\n",
    "else:\n",
    "       larg=n2\n",
    "if (larg>n3):\n",
    "       larg=larg\n",
    "else:\n",
    "       larg=n3\n",
    "\n",
    "print(\"The largest value is \", larg)"
   ]
  },
  {
   "cell_type": "code",
   "execution_count": 17,
   "metadata": {},
   "outputs": [
    {
     "name": "stdout",
     "output_type": "stream",
     "text": [
      "The Value of x is: 110\n",
      "The value of  -100\n"
     ]
    }
   ],
   "source": [
    "#Assignment Operator = +=  -=  *= /=\n",
    "z=100\n",
    "x=10\n",
    "x+=z\n",
    "print(\"The Value of x is:\", x)\n",
    "y=200\n",
    "y-=300\n",
    "print(\"The value of \",y)"
   ]
  },
  {
   "cell_type": "code",
   "execution_count": null,
   "metadata": {},
   "outputs": [],
   "source": []
  }
 ],
 "metadata": {
  "kernelspec": {
   "display_name": "Python 3",
   "language": "python",
   "name": "python3"
  },
  "language_info": {
   "codemirror_mode": {
    "name": "ipython",
    "version": 3
   },
   "file_extension": ".py",
   "mimetype": "text/x-python",
   "name": "python",
   "nbconvert_exporter": "python",
   "pygments_lexer": "ipython3",
   "version": "3.7.6"
  }
 },
 "nbformat": 4,
 "nbformat_minor": 4
}
