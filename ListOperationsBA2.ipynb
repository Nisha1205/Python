{
 "cells": [
  {
   "cell_type": "markdown",
   "metadata": {},
   "source": [
    "# List, Loop and Decision Making "
   ]
  },
  {
   "cell_type": "code",
   "execution_count": 1,
   "metadata": {},
   "outputs": [],
   "source": [
    "#Use of range() function to allocate values\n",
    "myList=list(range(10))"
   ]
  },
  {
   "cell_type": "code",
   "execution_count": 2,
   "metadata": {},
   "outputs": [
    {
     "data": {
      "text/plain": [
       "[0, 1, 2, 3, 4, 5, 6, 7, 8, 9]"
      ]
     },
     "execution_count": 2,
     "metadata": {},
     "output_type": "execute_result"
    }
   ],
   "source": [
    "myList"
   ]
  },
  {
   "cell_type": "code",
   "execution_count": 3,
   "metadata": {},
   "outputs": [
    {
     "data": {
      "text/plain": [
       "[5, 6, 7, 8, 9, 10, 11, 12, 13, 14, 15]"
      ]
     },
     "execution_count": 3,
     "metadata": {},
     "output_type": "execute_result"
    }
   ],
   "source": [
    "myList=list(range(5,16))\n",
    "myList"
   ]
  },
  {
   "cell_type": "code",
   "execution_count": 5,
   "metadata": {},
   "outputs": [
    {
     "data": {
      "text/plain": [
       "[0, 10, 20, 30, 40, 50, 60, 70, 80, 90, 100]"
      ]
     },
     "execution_count": 5,
     "metadata": {},
     "output_type": "execute_result"
    }
   ],
   "source": [
    "#the last argument in function list() tells howmuch to increment\n",
    "myList=list(range(0,101,10))\n",
    "myList"
   ]
  },
  {
   "cell_type": "code",
   "execution_count": 7,
   "metadata": {},
   "outputs": [
    {
     "data": {
      "text/plain": [
       "[3,\n",
       " 4,\n",
       " 5,\n",
       " 6,\n",
       " 7,\n",
       " 8,\n",
       " 9,\n",
       " 10,\n",
       " 11,\n",
       " 12,\n",
       " 13,\n",
       " 14,\n",
       " 15,\n",
       " 16,\n",
       " 17,\n",
       " 18,\n",
       " 19,\n",
       " 20,\n",
       " 21,\n",
       " 22,\n",
       " 23,\n",
       " 24,\n",
       " 25,\n",
       " 26,\n",
       " 27,\n",
       " 28,\n",
       " 29,\n",
       " 30]"
      ]
     },
     "execution_count": 7,
     "metadata": {},
     "output_type": "execute_result"
    }
   ],
   "source": [
    "#Create a list from 3 to 30 and print it\n",
    "mylist = list(range(3,31))\n",
    "mylist\n"
   ]
  },
  {
   "cell_type": "code",
   "execution_count": 1,
   "metadata": {},
   "outputs": [],
   "source": [
    "#List is a data type, mutable in nature. You can change individual elements of list\n",
    "MBAs=['Rupesh kumar sinha', 'arnav roy','divya lakshmi','chinmay jain','adil','ben roshan' ]"
   ]
  },
  {
   "cell_type": "code",
   "execution_count": 9,
   "metadata": {},
   "outputs": [
    {
     "data": {
      "text/plain": [
       "['Rupesh kumar sinha',\n",
       " 'arnav roy',\n",
       " 'divya lakshmi',\n",
       " 'chinmay jain',\n",
       " 'adil',\n",
       " 'ben roshan']"
      ]
     },
     "execution_count": 9,
     "metadata": {},
     "output_type": "execute_result"
    }
   ],
   "source": [
    "MBAs"
   ]
  },
  {
   "cell_type": "code",
   "execution_count": 10,
   "metadata": {},
   "outputs": [
    {
     "name": "stdout",
     "output_type": "stream",
     "text": [
      "['Rupesh kumar sinha', 'arnav roy', 'divya lakshmi', 'chinmay jain', 'adil', 'ben roshan']\n"
     ]
    }
   ],
   "source": [
    "print(MBAs)"
   ]
  },
  {
   "cell_type": "code",
   "execution_count": 12,
   "metadata": {},
   "outputs": [
    {
     "name": "stdout",
     "output_type": "stream",
     "text": [
      "Rupesh kumar sinha\n",
      "arnav roy\n",
      "divya lakshmi\n",
      "chinmay jain\n",
      "adil\n",
      "ben roshan\n"
     ]
    }
   ],
   "source": [
    "#Operations of the List, Accessing individual values from the list\n",
    "for mba in MBAs:\n",
    "    print (mba)"
   ]
  },
  {
   "cell_type": "code",
   "execution_count": 14,
   "metadata": {},
   "outputs": [
    {
     "name": "stdout",
     "output_type": "stream",
     "text": [
      "Rupesh Kumar Sinha\n",
      "Arnav Roy\n",
      "Divya Lakshmi\n",
      "Chinmay Jain\n",
      "Adil\n",
      "BEN ROSHAN\n"
     ]
    }
   ],
   "source": [
    "for mba in MBAs:\n",
    "    if mba=='ben roshan':\n",
    "        print(mba.upper())\n",
    "    else:\n",
    "        print(mba.title())\n",
    "    \n",
    "        "
   ]
  },
  {
   "cell_type": "code",
   "execution_count": 15,
   "metadata": {},
   "outputs": [
    {
     "name": "stdout",
     "output_type": "stream",
     "text": [
      "rupesh kumar sinha\n",
      "arnav roy\n",
      "DIVYA LAKSHMI\n",
      "chinmay jain\n",
      "adil\n",
      "Ben Roshan\n"
     ]
    }
   ],
   "source": [
    "for student in MBAs:\n",
    "    if student=='ben roshan':\n",
    "        print(student.title())\n",
    "    elif student=='divya lakshmi':\n",
    "        print(student.upper())\n",
    "    else:\n",
    "        print(student.lower())"
   ]
  },
  {
   "cell_type": "code",
   "execution_count": 2,
   "metadata": {},
   "outputs": [],
   "source": [
    "#Adding one more element to the list at the last\n",
    "MBAs.append('THE QUICK BROWN FOX JUMPS OVER THE LITTLE LAZY DOG')"
   ]
  },
  {
   "cell_type": "code",
   "execution_count": 18,
   "metadata": {},
   "outputs": [
    {
     "name": "stdout",
     "output_type": "stream",
     "text": [
      "Rupesh Kumar Sinha\n",
      "Arnav Roy\n",
      "DIVYA LAKSHMI\n",
      "Chinmay Jain\n",
      "Adil\n",
      "ben roshan\n",
      "The Quick Brown Fox Jumps Over The Little Lazy Dog\n"
     ]
    }
   ],
   "source": [
    "for student in MBAs:\n",
    "    if student=='ben roshan':\n",
    "        print(student.lower())\n",
    "    elif student=='divya lakshmi':\n",
    "        print(student.upper())\n",
    "    else:\n",
    "        print(student.title())"
   ]
  },
  {
   "cell_type": "code",
   "execution_count": 19,
   "metadata": {},
   "outputs": [
    {
     "data": {
      "text/plain": [
       "['Rupesh kumar sinha',\n",
       " 'arnav roy',\n",
       " 'divya lakshmi',\n",
       " 'chinmay jain',\n",
       " 'adil',\n",
       " 'ben roshan',\n",
       " 'THE QUICK BROWN FOX JUMPS OVER THE LITTLE LAZY DOG']"
      ]
     },
     "execution_count": 19,
     "metadata": {},
     "output_type": "execute_result"
    }
   ],
   "source": [
    "MBAs"
   ]
  },
  {
   "cell_type": "code",
   "execution_count": 20,
   "metadata": {},
   "outputs": [
    {
     "name": "stdout",
     "output_type": "stream",
     "text": [
      "7\n"
     ]
    }
   ],
   "source": [
    "#len function returns number of items from the list\n",
    "print(len(MBAs))"
   ]
  },
  {
   "cell_type": "code",
   "execution_count": 25,
   "metadata": {},
   "outputs": [
    {
     "name": "stdout",
     "output_type": "stream",
     "text": [
      "Rupesh kumar sinha\n",
      "THE QUICK BROWN FOX JUMPS OVER THE LITTLE LAZY DOG\n"
     ]
    },
    {
     "ename": "IndexError",
     "evalue": "list index out of range",
     "output_type": "error",
     "traceback": [
      "\u001b[1;31m---------------------------------------------------------------------------\u001b[0m",
      "\u001b[1;31mIndexError\u001b[0m                                Traceback (most recent call last)",
      "\u001b[1;32m<ipython-input-25-c8ceb97d3991>\u001b[0m in \u001b[0;36m<module>\u001b[1;34m\u001b[0m\n\u001b[0;32m      2\u001b[0m \u001b[0mprint\u001b[0m\u001b[1;33m(\u001b[0m\u001b[0mMBAs\u001b[0m\u001b[1;33m[\u001b[0m\u001b[1;36m0\u001b[0m\u001b[1;33m]\u001b[0m\u001b[1;33m)\u001b[0m\u001b[1;33m\u001b[0m\u001b[1;33m\u001b[0m\u001b[0m\n\u001b[0;32m      3\u001b[0m \u001b[0mprint\u001b[0m\u001b[1;33m(\u001b[0m\u001b[0mMBAs\u001b[0m\u001b[1;33m[\u001b[0m\u001b[1;36m6\u001b[0m\u001b[1;33m]\u001b[0m\u001b[1;33m)\u001b[0m\u001b[1;33m\u001b[0m\u001b[1;33m\u001b[0m\u001b[0m\n\u001b[1;32m----> 4\u001b[1;33m \u001b[0mprint\u001b[0m\u001b[1;33m(\u001b[0m\u001b[0mMBAs\u001b[0m\u001b[1;33m[\u001b[0m\u001b[1;36m7\u001b[0m\u001b[1;33m]\u001b[0m\u001b[1;33m)\u001b[0m\u001b[1;33m\u001b[0m\u001b[1;33m\u001b[0m\u001b[0m\n\u001b[0m",
      "\u001b[1;31mIndexError\u001b[0m: list index out of range"
     ]
    }
   ],
   "source": [
    "#Accesing list elements by index\n",
    "print(MBAs[0])\n",
    "print(MBAs[6])\n",
    "print(MBAs[7])"
   ]
  },
  {
   "cell_type": "code",
   "execution_count": 28,
   "metadata": {},
   "outputs": [
    {
     "name": "stdout",
     "output_type": "stream",
     "text": [
      "THE QUICK BROWN FOX JUMPS OVER THE LITTLE LAZY DOG\n",
      "ben roshan\n",
      "adil\n"
     ]
    }
   ],
   "source": [
    "#How to access last element without knowing number of elements\n",
    "print(MBAs[-1])\n",
    "print(MBAs[-2])\n",
    "print(MBAs[-3])"
   ]
  },
  {
   "cell_type": "code",
   "execution_count": 42,
   "metadata": {},
   "outputs": [
    {
     "name": "stdout",
     "output_type": "stream",
     "text": [
      "1000\n",
      "999\n",
      "998\n",
      "997\n",
      "996\n"
     ]
    }
   ],
   "source": [
    "#Create a list with 1000 elements and print last n elemnts of the list\n",
    "myL=list(range(1,1001))\n",
    "\n",
    "i=indx=len(myL)-1\n",
    "#print(totalEle)\n",
    "while (i>indx-5):\n",
    "    print(myL[i])\n",
    "    i-=1"
   ]
  },
  {
   "cell_type": "code",
   "execution_count": 3,
   "metadata": {},
   "outputs": [
    {
     "name": "stdout",
     "output_type": "stream",
     "text": [
      "The value of i= 1\n",
      "FRIED RICE\n",
      "The value of i= 2\n",
      "Dosa\n",
      "The value of i= 3\n",
      "IDLI\n",
      "The value of i= 4\n",
      "Dal\n",
      "The value of i= 5\n",
      "RASGULLA\n",
      "The value of i= 6\n",
      "Kala Jamun\n",
      "The value of i= 7\n",
      "SWEET CURD\n",
      "\n",
      "We have printed it!\n"
     ]
    }
   ],
   "source": [
    "#Create a List of 6 food items. add One more food item at Last and print each odd items in Upper case\n",
    "Foods=['Fried Rice','Dosa','Idli','Dal','Rasgulla','Kala Jamun']\n",
    "Foods.append('Sweet Curd')\n",
    "\n",
    "#Now printing Every even items in Caps\n",
    "i=1\n",
    "for food in Foods:\n",
    "    print(\"The value of i=\", i )\n",
    "    if i%2!=0:\n",
    "        print(food.upper())\n",
    "    else:\n",
    "        print(food)\n",
    "    i+=1\n",
    "    \n",
    "print(\"\\nWe have printed it!\")\n",
    "    \n",
    "    \n"
   ]
  },
  {
   "cell_type": "code",
   "execution_count": 51,
   "metadata": {},
   "outputs": [
    {
     "name": "stdout",
     "output_type": "stream",
     "text": [
      "0\n"
     ]
    }
   ],
   "source": [
    "# % is Modulo operator\n",
    "print (4%2)"
   ]
  },
  {
   "cell_type": "code",
   "execution_count": 4,
   "metadata": {},
   "outputs": [
    {
     "data": {
      "text/plain": [
       "['Rupesh kumar sinha',\n",
       " 'arnav roy',\n",
       " 'divya lakshmi',\n",
       " 'chinmay jain',\n",
       " 'adil',\n",
       " 'ben roshan',\n",
       " 'THE QUICK BROWN FOX JUMPS OVER THE LITTLE LAZY DOG']"
      ]
     },
     "execution_count": 4,
     "metadata": {},
     "output_type": "execute_result"
    }
   ],
   "source": [
    "MBAs\n"
   ]
  },
  {
   "cell_type": "code",
   "execution_count": 5,
   "metadata": {},
   "outputs": [
    {
     "data": {
      "text/plain": [
       "['Fried Rice', 'Dosa', 'Idli', 'Dal', 'Rasgulla', 'Kala Jamun', 'Sweet Curd']"
      ]
     },
     "execution_count": 5,
     "metadata": {},
     "output_type": "execute_result"
    }
   ],
   "source": [
    "Foods"
   ]
  },
  {
   "cell_type": "code",
   "execution_count": 7,
   "metadata": {},
   "outputs": [
    {
     "name": "stdout",
     "output_type": "stream",
     "text": [
      "7\n"
     ]
    }
   ],
   "source": [
    "#ACCessing elements of the List using index vlaue\n",
    "print(len(MBAs))"
   ]
  },
  {
   "cell_type": "code",
   "execution_count": 8,
   "metadata": {},
   "outputs": [
    {
     "name": "stdout",
     "output_type": "stream",
     "text": [
      "THE QUICK BROWN FOX JUMPS OVER THE LITTLE LAZY DOG\n"
     ]
    }
   ],
   "source": [
    "print(MBAs[6])"
   ]
  },
  {
   "cell_type": "code",
   "execution_count": 9,
   "metadata": {},
   "outputs": [
    {
     "name": "stdout",
     "output_type": "stream",
     "text": [
      "arnav roy\n"
     ]
    }
   ],
   "source": [
    "print(MBAs[1])"
   ]
  },
  {
   "cell_type": "code",
   "execution_count": 10,
   "metadata": {},
   "outputs": [
    {
     "name": "stdout",
     "output_type": "stream",
     "text": [
      "THE QUICK BROWN FOX JUMPS OVER THE LITTLE LAZY DOG\n"
     ]
    }
   ],
   "source": [
    "print(MBAs[-1])"
   ]
  },
  {
   "cell_type": "code",
   "execution_count": 15,
   "metadata": {},
   "outputs": [
    {
     "name": "stdout",
     "output_type": "stream",
     "text": [
      "Sorry We dont serve it!\n"
     ]
    }
   ],
   "source": [
    "flag=False\n",
    "for food in Foods:\n",
    "    if food=='Daal':\n",
    "        flag=True\n",
    "        \n",
    "if flag==True:\n",
    "    print(\"We serve Dal\")\n",
    "else:\n",
    "    print(\"Sorry We dont serve it!\")\n",
    "        "
   ]
  },
  {
   "cell_type": "markdown",
   "metadata": {},
   "source": [
    "<div>\n",
    "    <hr><hr>\n",
    "    <font face=\"verdana\" size=5 color=red>\n",
    "# Modifying Elements of List.. <font color=\"green\">append()  ... insert()   ..... del()   ..... pop().. remove()\n",
    "    </font> Demo given below </font>\n",
    "    <hr><hr>\n",
    "</div>"
   ]
  },
  {
   "cell_type": "code",
   "execution_count": 16,
   "metadata": {},
   "outputs": [],
   "source": [
    "#append() inserts new list element at the last\n",
    "MBAs.append('Sarvana')"
   ]
  },
  {
   "cell_type": "code",
   "execution_count": 17,
   "metadata": {},
   "outputs": [
    {
     "data": {
      "text/plain": [
       "['Rupesh kumar sinha',\n",
       " 'arnav roy',\n",
       " 'divya lakshmi',\n",
       " 'chinmay jain',\n",
       " 'adil',\n",
       " 'ben roshan',\n",
       " 'THE QUICK BROWN FOX JUMPS OVER THE LITTLE LAZY DOG',\n",
       " 'Sarvana']"
      ]
     },
     "execution_count": 17,
     "metadata": {},
     "output_type": "execute_result"
    }
   ],
   "source": [
    "MBAs"
   ]
  },
  {
   "cell_type": "code",
   "execution_count": 20,
   "metadata": {},
   "outputs": [],
   "source": [
    "MBAs.insert(0,'Kuna Nikhil')"
   ]
  },
  {
   "cell_type": "code",
   "execution_count": 21,
   "metadata": {},
   "outputs": [
    {
     "data": {
      "text/plain": [
       "['Kuna Nikhil',\n",
       " 'Rupesh kumar sinha',\n",
       " 'arnav roy',\n",
       " 'divya lakshmi',\n",
       " 'chinmay jain',\n",
       " 'adil',\n",
       " 'ben roshan',\n",
       " 'THE QUICK BROWN FOX JUMPS OVER THE LITTLE LAZY DOG',\n",
       " 'Kuna Nikhil',\n",
       " 'Sarvana']"
      ]
     },
     "execution_count": 21,
     "metadata": {},
     "output_type": "execute_result"
    }
   ],
   "source": [
    "MBAs"
   ]
  },
  {
   "cell_type": "code",
   "execution_count": 22,
   "metadata": {},
   "outputs": [],
   "source": [
    "#Removing elements from the list using del(), use it carefully becuase once element deleted, it's difficult to trace \n",
    "#it back\n",
    "del MBAs[0]"
   ]
  },
  {
   "cell_type": "code",
   "execution_count": 23,
   "metadata": {},
   "outputs": [
    {
     "data": {
      "text/plain": [
       "['Rupesh kumar sinha',\n",
       " 'arnav roy',\n",
       " 'divya lakshmi',\n",
       " 'chinmay jain',\n",
       " 'adil',\n",
       " 'ben roshan',\n",
       " 'THE QUICK BROWN FOX JUMPS OVER THE LITTLE LAZY DOG',\n",
       " 'Kuna Nikhil',\n",
       " 'Sarvana']"
      ]
     },
     "execution_count": 23,
     "metadata": {},
     "output_type": "execute_result"
    }
   ],
   "source": [
    "MBAs"
   ]
  },
  {
   "cell_type": "code",
   "execution_count": 26,
   "metadata": {},
   "outputs": [],
   "source": [
    "#Removing elemnets using pop()  \n",
    "Proj_submitted=MBAs.pop()"
   ]
  },
  {
   "cell_type": "code",
   "execution_count": 27,
   "metadata": {},
   "outputs": [
    {
     "name": "stdout",
     "output_type": "stream",
     "text": [
      "['Rupesh kumar sinha', 'arnav roy', 'divya lakshmi', 'chinmay jain', 'adil', 'ben roshan', 'THE QUICK BROWN FOX JUMPS OVER THE LITTLE LAZY DOG']\n",
      "Kuna Nikhil\n"
     ]
    }
   ],
   "source": [
    "print(MBAs)\n",
    "print(Proj_submitted)"
   ]
  },
  {
   "cell_type": "code",
   "execution_count": null,
   "metadata": {},
   "outputs": [],
   "source": [
    "#Use pop() funtion and remove names from one list and store all popped names in another list\n",
    "#When to use pop() and when to use del(), what do you think?"
   ]
  },
  {
   "cell_type": "code",
   "execution_count": 28,
   "metadata": {},
   "outputs": [
    {
     "data": {
      "text/plain": [
       "['Fried Rice', 'Dosa', 'Idli', 'Dal', 'Rasgulla', 'Kala Jamun', 'Sweet Curd']"
      ]
     },
     "execution_count": 28,
     "metadata": {},
     "output_type": "execute_result"
    }
   ],
   "source": [
    "#Removing an item from the list by value\n",
    "Foods"
   ]
  },
  {
   "cell_type": "code",
   "execution_count": 29,
   "metadata": {},
   "outputs": [],
   "source": [
    "Foods.remove('Dal')"
   ]
  },
  {
   "cell_type": "code",
   "execution_count": 30,
   "metadata": {},
   "outputs": [
    {
     "data": {
      "text/plain": [
       "['Fried Rice', 'Dosa', 'Idli', 'Rasgulla', 'Kala Jamun', 'Sweet Curd']"
      ]
     },
     "execution_count": 30,
     "metadata": {},
     "output_type": "execute_result"
    }
   ],
   "source": [
    "Foods"
   ]
  },
  {
   "cell_type": "markdown",
   "metadata": {},
   "source": [
    "# Organizing the List ...sort()   ...sorted() "
   ]
  },
  {
   "cell_type": "code",
   "execution_count": 31,
   "metadata": {},
   "outputs": [],
   "source": [
    "new_Foods=Foods[:]  #Slicing of the Data the        --->actual list is stored in new_Foods\n"
   ]
  },
  {
   "cell_type": "code",
   "execution_count": 32,
   "metadata": {},
   "outputs": [],
   "source": [
    "Foods.sort()  #The order will get changed permanently and you will not get actual list again, hence if order of data\n",
    "#is important to you, it is lost forever"
   ]
  },
  {
   "cell_type": "code",
   "execution_count": 33,
   "metadata": {},
   "outputs": [
    {
     "name": "stdout",
     "output_type": "stream",
     "text": [
      "['Dosa', 'Fried Rice', 'Idli', 'Kala Jamun', 'Rasgulla', 'Sweet Curd']\n"
     ]
    }
   ],
   "source": [
    "print(Foods)"
   ]
  },
  {
   "cell_type": "code",
   "execution_count": 34,
   "metadata": {},
   "outputs": [
    {
     "data": {
      "text/plain": [
       "['Fried Rice', 'Dosa', 'Idli', 'Rasgulla', 'Kala Jamun', 'Sweet Curd']"
      ]
     },
     "execution_count": 34,
     "metadata": {},
     "output_type": "execute_result"
    }
   ],
   "source": [
    "new_Foods"
   ]
  },
  {
   "cell_type": "code",
   "execution_count": 36,
   "metadata": {},
   "outputs": [
    {
     "name": "stdout",
     "output_type": "stream",
     "text": [
      "156 156\n"
     ]
    }
   ],
   "source": [
    "#CReating Copy of one more list\n",
    "x=156\n",
    "y=x\n",
    "print(x,y)\n",
    "\n",
    "anotherFoods=Foods"
   ]
  },
  {
   "cell_type": "code",
   "execution_count": 37,
   "metadata": {},
   "outputs": [
    {
     "data": {
      "text/plain": [
       "['Dosa', 'Fried Rice', 'Idli', 'Kala Jamun', 'Rasgulla', 'Sweet Curd']"
      ]
     },
     "execution_count": 37,
     "metadata": {},
     "output_type": "execute_result"
    }
   ],
   "source": [
    "anotherFoods"
   ]
  },
  {
   "cell_type": "code",
   "execution_count": 38,
   "metadata": {},
   "outputs": [
    {
     "name": "stdout",
     "output_type": "stream",
     "text": [
      "['Dosa', 'Fried Rice', 'Idli', 'Kala Jamun', 'Rasgulla', 'Sweet Curd']\n"
     ]
    }
   ],
   "source": [
    "print(Foods)"
   ]
  },
  {
   "cell_type": "code",
   "execution_count": 39,
   "metadata": {},
   "outputs": [],
   "source": [
    "#Sort in reverseorder\n",
    "Foods.sort(reverse=True)"
   ]
  },
  {
   "cell_type": "code",
   "execution_count": 40,
   "metadata": {},
   "outputs": [
    {
     "name": "stdout",
     "output_type": "stream",
     "text": [
      "['Sweet Curd', 'Rasgulla', 'Kala Jamun', 'Idli', 'Fried Rice', 'Dosa']\n"
     ]
    }
   ],
   "source": [
    "print(Foods)"
   ]
  },
  {
   "cell_type": "code",
   "execution_count": 42,
   "metadata": {},
   "outputs": [
    {
     "name": "stdout",
     "output_type": "stream",
     "text": [
      "['Dosa', 'Fried Rice', 'Idli', 'Kala Jamun', 'Rasgulla', 'Sweet Curd']\n"
     ]
    }
   ],
   "source": [
    "Foods.sort()\n",
    "print(Foods)"
   ]
  },
  {
   "cell_type": "code",
   "execution_count": 43,
   "metadata": {},
   "outputs": [
    {
     "data": {
      "text/plain": [
       "['Fried Rice', 'Dosa', 'Idli', 'Rasgulla', 'Kala Jamun', 'Sweet Curd']"
      ]
     },
     "execution_count": 43,
     "metadata": {},
     "output_type": "execute_result"
    }
   ],
   "source": [
    "new_Foods"
   ]
  },
  {
   "cell_type": "code",
   "execution_count": 44,
   "metadata": {},
   "outputs": [
    {
     "name": "stdout",
     "output_type": "stream",
     "text": [
      "['Dosa', 'Fried Rice', 'Idli', 'Kala Jamun', 'Rasgulla', 'Sweet Curd']\n"
     ]
    }
   ],
   "source": [
    "#sorted() will sort the data temprorily\n",
    "print(sorted(new_Foods))"
   ]
  },
  {
   "cell_type": "code",
   "execution_count": 45,
   "metadata": {},
   "outputs": [
    {
     "data": {
      "text/plain": [
       "['Fried Rice', 'Dosa', 'Idli', 'Rasgulla', 'Kala Jamun', 'Sweet Curd']"
      ]
     },
     "execution_count": 45,
     "metadata": {},
     "output_type": "execute_result"
    }
   ],
   "source": [
    "new_Foods"
   ]
  },
  {
   "cell_type": "markdown",
   "metadata": {},
   "source": [
    "# Reverse function..... reverse()"
   ]
  },
  {
   "cell_type": "code",
   "execution_count": 46,
   "metadata": {},
   "outputs": [
    {
     "name": "stdout",
     "output_type": "stream",
     "text": [
      "['Sweet Curd', 'Rasgulla', 'Kala Jamun', 'Idli', 'Fried Rice', 'Dosa']\n"
     ]
    }
   ],
   "source": [
    "Foods.reverse()\n",
    "print(Foods)"
   ]
  },
  {
   "cell_type": "markdown",
   "metadata": {},
   "source": [
    "# Simple Statistics with List of Numbers ...min() .... max() .... sum()"
   ]
  },
  {
   "cell_type": "code",
   "execution_count": 47,
   "metadata": {},
   "outputs": [],
   "source": [
    "ser=list(range(10,101,10))"
   ]
  },
  {
   "cell_type": "code",
   "execution_count": 48,
   "metadata": {},
   "outputs": [
    {
     "data": {
      "text/plain": [
       "[10, 20, 30, 40, 50, 60, 70, 80, 90, 100]"
      ]
     },
     "execution_count": 48,
     "metadata": {},
     "output_type": "execute_result"
    }
   ],
   "source": [
    "ser"
   ]
  },
  {
   "cell_type": "code",
   "execution_count": 49,
   "metadata": {},
   "outputs": [
    {
     "name": "stdout",
     "output_type": "stream",
     "text": [
      "10\n",
      "100\n",
      "550\n"
     ]
    }
   ],
   "source": [
    "print(min(ser))\n",
    "print(max(ser))\n",
    "print(sum(ser))"
   ]
  },
  {
   "cell_type": "markdown",
   "metadata": {},
   "source": [
    "# Slicing of Data   .. Working with part of a List"
   ]
  },
  {
   "cell_type": "code",
   "execution_count": 50,
   "metadata": {},
   "outputs": [
    {
     "name": "stdout",
     "output_type": "stream",
     "text": [
      "['Rupesh kumar sinha', 'arnav roy', 'divya lakshmi', 'chinmay jain', 'adil', 'ben roshan', 'THE QUICK BROWN FOX JUMPS OVER THE LITTLE LAZY DOG']\n"
     ]
    }
   ],
   "source": [
    "print(MBAs)"
   ]
  },
  {
   "cell_type": "code",
   "execution_count": 51,
   "metadata": {},
   "outputs": [
    {
     "name": "stdout",
     "output_type": "stream",
     "text": [
      "['Rupesh kumar sinha', 'arnav roy', 'divya lakshmi']\n"
     ]
    }
   ],
   "source": [
    "print(MBAs[0:3])  # it will print first 3 values"
   ]
  },
  {
   "cell_type": "code",
   "execution_count": 55,
   "metadata": {},
   "outputs": [
    {
     "name": "stdout",
     "output_type": "stream",
     "text": [
      "['chinmay jain', 'adil', 'ben roshan']\n"
     ]
    }
   ],
   "source": [
    "print(MBAs[3:6])"
   ]
  },
  {
   "cell_type": "code",
   "execution_count": 57,
   "metadata": {},
   "outputs": [
    {
     "name": "stdout",
     "output_type": "stream",
     "text": [
      "['Rupesh kumar sinha', 'arnav roy', 'divya lakshmi', 'chinmay jain', 'adil']\n"
     ]
    }
   ],
   "source": [
    "print(MBAs[:5])"
   ]
  },
  {
   "cell_type": "code",
   "execution_count": 58,
   "metadata": {},
   "outputs": [
    {
     "name": "stdout",
     "output_type": "stream",
     "text": [
      "['divya lakshmi', 'chinmay jain', 'adil', 'ben roshan', 'THE QUICK BROWN FOX JUMPS OVER THE LITTLE LAZY DOG']\n"
     ]
    }
   ],
   "source": [
    "print(MBAs[2:])"
   ]
  },
  {
   "cell_type": "code",
   "execution_count": null,
   "metadata": {},
   "outputs": [],
   "source": []
  }
 ],
 "metadata": {
  "kernelspec": {
   "display_name": "Python 3",
   "language": "python",
   "name": "python3"
  },
  "language_info": {
   "codemirror_mode": {
    "name": "ipython",
    "version": 3
   },
   "file_extension": ".py",
   "mimetype": "text/x-python",
   "name": "python",
   "nbconvert_exporter": "python",
   "pygments_lexer": "ipython3",
   "version": "3.7.6"
  }
 },
 "nbformat": 4,
 "nbformat_minor": 4
}
