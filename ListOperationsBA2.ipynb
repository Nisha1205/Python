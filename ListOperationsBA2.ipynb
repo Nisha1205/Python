{
 "cells": [
  {
   "cell_type": "markdown",
   "metadata": {},
   "source": [
    "# List, Loop and Decision Making "
   ]
  },
  {
   "cell_type": "code",
   "execution_count": 1,
   "metadata": {},
   "outputs": [],
   "source": [
    "#Use of range() function to allocate values\n",
    "myList=list(range(10))"
   ]
  },
  {
   "cell_type": "code",
   "execution_count": 2,
   "metadata": {},
   "outputs": [
    {
     "data": {
      "text/plain": [
       "[0, 1, 2, 3, 4, 5, 6, 7, 8, 9]"
      ]
     },
     "execution_count": 2,
     "metadata": {},
     "output_type": "execute_result"
    }
   ],
   "source": [
    "myList"
   ]
  },
  {
   "cell_type": "code",
   "execution_count": 3,
   "metadata": {},
   "outputs": [
    {
     "data": {
      "text/plain": [
       "[5, 6, 7, 8, 9, 10, 11, 12, 13, 14, 15]"
      ]
     },
     "execution_count": 3,
     "metadata": {},
     "output_type": "execute_result"
    }
   ],
   "source": [
    "myList=list(range(5,16))\n",
    "myList"
   ]
  },
  {
   "cell_type": "code",
   "execution_count": 5,
   "metadata": {},
   "outputs": [
    {
     "data": {
      "text/plain": [
       "[0, 10, 20, 30, 40, 50, 60, 70, 80, 90, 100]"
      ]
     },
     "execution_count": 5,
     "metadata": {},
     "output_type": "execute_result"
    }
   ],
   "source": [
    "#the last argument in function list() tells howmuch to increment\n",
    "myList=list(range(0,101,10))\n",
    "myList"
   ]
  },
  {
   "cell_type": "code",
   "execution_count": 7,
   "metadata": {},
   "outputs": [
    {
     "data": {
      "text/plain": [
       "[3,\n",
       " 4,\n",
       " 5,\n",
       " 6,\n",
       " 7,\n",
       " 8,\n",
       " 9,\n",
       " 10,\n",
       " 11,\n",
       " 12,\n",
       " 13,\n",
       " 14,\n",
       " 15,\n",
       " 16,\n",
       " 17,\n",
       " 18,\n",
       " 19,\n",
       " 20,\n",
       " 21,\n",
       " 22,\n",
       " 23,\n",
       " 24,\n",
       " 25,\n",
       " 26,\n",
       " 27,\n",
       " 28,\n",
       " 29,\n",
       " 30]"
      ]
     },
     "execution_count": 7,
     "metadata": {},
     "output_type": "execute_result"
    }
   ],
   "source": [
    "#Create a list from 3 to 30 and print it\n",
    "mylist = list(range(3,31))\n",
    "mylist\n"
   ]
  },
  {
   "cell_type": "code",
   "execution_count": 8,
   "metadata": {},
   "outputs": [],
   "source": [
    "#List is a data type, mutable in nature. You can change individual elements of list\n",
    "MBAs=['Rupesh kumar sinha', 'arnav roy','divya lakshmi','chinmay jain','adil','ben roshan' ]"
   ]
  },
  {
   "cell_type": "code",
   "execution_count": 9,
   "metadata": {},
   "outputs": [
    {
     "data": {
      "text/plain": [
       "['Rupesh kumar sinha',\n",
       " 'arnav roy',\n",
       " 'divya lakshmi',\n",
       " 'chinmay jain',\n",
       " 'adil',\n",
       " 'ben roshan']"
      ]
     },
     "execution_count": 9,
     "metadata": {},
     "output_type": "execute_result"
    }
   ],
   "source": [
    "MBAs"
   ]
  },
  {
   "cell_type": "code",
   "execution_count": 10,
   "metadata": {},
   "outputs": [
    {
     "name": "stdout",
     "output_type": "stream",
     "text": [
      "['Rupesh kumar sinha', 'arnav roy', 'divya lakshmi', 'chinmay jain', 'adil', 'ben roshan']\n"
     ]
    }
   ],
   "source": [
    "print(MBAs)"
   ]
  },
  {
   "cell_type": "code",
   "execution_count": 12,
   "metadata": {},
   "outputs": [
    {
     "name": "stdout",
     "output_type": "stream",
     "text": [
      "Rupesh kumar sinha\n",
      "arnav roy\n",
      "divya lakshmi\n",
      "chinmay jain\n",
      "adil\n",
      "ben roshan\n"
     ]
    }
   ],
   "source": [
    "#Operations of the List, Accessing individual values from the list\n",
    "for mba in MBAs:\n",
    "    print (mba)"
   ]
  },
  {
   "cell_type": "code",
   "execution_count": 14,
   "metadata": {},
   "outputs": [
    {
     "name": "stdout",
     "output_type": "stream",
     "text": [
      "Rupesh Kumar Sinha\n",
      "Arnav Roy\n",
      "Divya Lakshmi\n",
      "Chinmay Jain\n",
      "Adil\n",
      "BEN ROSHAN\n"
     ]
    }
   ],
   "source": [
    "for mba in MBAs:\n",
    "    if mba=='ben roshan':\n",
    "        print(mba.upper())\n",
    "    else:\n",
    "        print(mba.title())\n",
    "    \n",
    "        "
   ]
  },
  {
   "cell_type": "code",
   "execution_count": 15,
   "metadata": {},
   "outputs": [
    {
     "name": "stdout",
     "output_type": "stream",
     "text": [
      "rupesh kumar sinha\n",
      "arnav roy\n",
      "DIVYA LAKSHMI\n",
      "chinmay jain\n",
      "adil\n",
      "Ben Roshan\n"
     ]
    }
   ],
   "source": [
    "for student in MBAs:\n",
    "    if student=='ben roshan':\n",
    "        print(student.title())\n",
    "    elif student=='divya lakshmi':\n",
    "        print(student.upper())\n",
    "    else:\n",
    "        print(student.lower())"
   ]
  },
  {
   "cell_type": "code",
   "execution_count": 16,
   "metadata": {},
   "outputs": [],
   "source": [
    "#Adding one more element to the list at the last\n",
    "MBAs.append('THE QUICK BROWN FOX JUMPS OVER THE LITTLE LAZY DOG')"
   ]
  },
  {
   "cell_type": "code",
   "execution_count": 18,
   "metadata": {},
   "outputs": [
    {
     "name": "stdout",
     "output_type": "stream",
     "text": [
      "Rupesh Kumar Sinha\n",
      "Arnav Roy\n",
      "DIVYA LAKSHMI\n",
      "Chinmay Jain\n",
      "Adil\n",
      "ben roshan\n",
      "The Quick Brown Fox Jumps Over The Little Lazy Dog\n"
     ]
    }
   ],
   "source": [
    "for student in MBAs:\n",
    "    if student=='ben roshan':\n",
    "        print(student.lower())\n",
    "    elif student=='divya lakshmi':\n",
    "        print(student.upper())\n",
    "    else:\n",
    "        print(student.title())"
   ]
  },
  {
   "cell_type": "code",
   "execution_count": 19,
   "metadata": {},
   "outputs": [
    {
     "data": {
      "text/plain": [
       "['Rupesh kumar sinha',\n",
       " 'arnav roy',\n",
       " 'divya lakshmi',\n",
       " 'chinmay jain',\n",
       " 'adil',\n",
       " 'ben roshan',\n",
       " 'THE QUICK BROWN FOX JUMPS OVER THE LITTLE LAZY DOG']"
      ]
     },
     "execution_count": 19,
     "metadata": {},
     "output_type": "execute_result"
    }
   ],
   "source": [
    "MBAs"
   ]
  },
  {
   "cell_type": "code",
   "execution_count": 20,
   "metadata": {},
   "outputs": [
    {
     "name": "stdout",
     "output_type": "stream",
     "text": [
      "7\n"
     ]
    }
   ],
   "source": [
    "#len function returns number of items from the list\n",
    "print(len(MBAs))"
   ]
  },
  {
   "cell_type": "code",
   "execution_count": 25,
   "metadata": {},
   "outputs": [
    {
     "name": "stdout",
     "output_type": "stream",
     "text": [
      "Rupesh kumar sinha\n",
      "THE QUICK BROWN FOX JUMPS OVER THE LITTLE LAZY DOG\n"
     ]
    },
    {
     "ename": "IndexError",
     "evalue": "list index out of range",
     "output_type": "error",
     "traceback": [
      "\u001b[1;31m---------------------------------------------------------------------------\u001b[0m",
      "\u001b[1;31mIndexError\u001b[0m                                Traceback (most recent call last)",
      "\u001b[1;32m<ipython-input-25-c8ceb97d3991>\u001b[0m in \u001b[0;36m<module>\u001b[1;34m\u001b[0m\n\u001b[0;32m      2\u001b[0m \u001b[0mprint\u001b[0m\u001b[1;33m(\u001b[0m\u001b[0mMBAs\u001b[0m\u001b[1;33m[\u001b[0m\u001b[1;36m0\u001b[0m\u001b[1;33m]\u001b[0m\u001b[1;33m)\u001b[0m\u001b[1;33m\u001b[0m\u001b[1;33m\u001b[0m\u001b[0m\n\u001b[0;32m      3\u001b[0m \u001b[0mprint\u001b[0m\u001b[1;33m(\u001b[0m\u001b[0mMBAs\u001b[0m\u001b[1;33m[\u001b[0m\u001b[1;36m6\u001b[0m\u001b[1;33m]\u001b[0m\u001b[1;33m)\u001b[0m\u001b[1;33m\u001b[0m\u001b[1;33m\u001b[0m\u001b[0m\n\u001b[1;32m----> 4\u001b[1;33m \u001b[0mprint\u001b[0m\u001b[1;33m(\u001b[0m\u001b[0mMBAs\u001b[0m\u001b[1;33m[\u001b[0m\u001b[1;36m7\u001b[0m\u001b[1;33m]\u001b[0m\u001b[1;33m)\u001b[0m\u001b[1;33m\u001b[0m\u001b[1;33m\u001b[0m\u001b[0m\n\u001b[0m",
      "\u001b[1;31mIndexError\u001b[0m: list index out of range"
     ]
    }
   ],
   "source": [
    "#Accesing list elements by index\n",
    "print(MBAs[0])\n",
    "print(MBAs[6])\n",
    "print(MBAs[7])"
   ]
  },
  {
   "cell_type": "code",
   "execution_count": 28,
   "metadata": {},
   "outputs": [
    {
     "name": "stdout",
     "output_type": "stream",
     "text": [
      "THE QUICK BROWN FOX JUMPS OVER THE LITTLE LAZY DOG\n",
      "ben roshan\n",
      "adil\n"
     ]
    }
   ],
   "source": [
    "#How to access last element without knowing number of elements\n",
    "print(MBAs[-1])\n",
    "print(MBAs[-2])\n",
    "print(MBAs[-3])"
   ]
  },
  {
   "cell_type": "code",
   "execution_count": 42,
   "metadata": {},
   "outputs": [
    {
     "name": "stdout",
     "output_type": "stream",
     "text": [
      "1000\n",
      "999\n",
      "998\n",
      "997\n",
      "996\n"
     ]
    }
   ],
   "source": [
    "#Create a list with 1000 elements and print last n elemnts of the list\n",
    "myL=list(range(1,1001))\n",
    "\n",
    "i=indx=len(myL)-1\n",
    "#print(totalEle)\n",
    "while (i>indx-5):\n",
    "    print(myL[i])\n",
    "    i-=1"
   ]
  },
  {
   "cell_type": "code",
   "execution_count": 53,
   "metadata": {},
   "outputs": [
    {
     "name": "stdout",
     "output_type": "stream",
     "text": [
      "The value of i= 1\n",
      "FRIED RICE\n",
      "The value of i= 2\n",
      "Dosa\n",
      "The value of i= 3\n",
      "IDLI\n",
      "The value of i= 4\n",
      "Dal\n",
      "The value of i= 5\n",
      "RASGULLA\n",
      "The value of i= 6\n",
      "Kala Jamun\n",
      "The value of i= 7\n",
      "SWEET CURD\n",
      "\n",
      "We have printed it!\n"
     ]
    }
   ],
   "source": [
    "#Create a List of 6 food items. add One more food item at Last and print each odd items in Upper case\n",
    "Foods=['Fried Rice','Dosa','Idli','Dal','Rasgulla','Kala Jamun']\n",
    "Foods.append('Sweet Curd')\n",
    "\n",
    "#Now printing Every even items in Caps\n",
    "i=1\n",
    "for food in Foods:\n",
    "    print(\"The value of i=\", i )\n",
    "    if i%2!=0:\n",
    "        print(food.upper())\n",
    "    else:\n",
    "        print(food)\n",
    "    i+=1\n",
    "    \n",
    "print(\"\\nWe have printed it!\")\n",
    "    \n",
    "    \n"
   ]
  },
  {
   "cell_type": "code",
   "execution_count": 51,
   "metadata": {},
   "outputs": [
    {
     "name": "stdout",
     "output_type": "stream",
     "text": [
      "0\n"
     ]
    }
   ],
   "source": [
    "# % is Modulo operator\n",
    "print (4%2)"
   ]
  },
  {
   "cell_type": "code",
   "execution_count": null,
   "metadata": {},
   "outputs": [],
   "source": []
  }
 ],
 "metadata": {
  "kernelspec": {
   "display_name": "Python 3",
   "language": "python",
   "name": "python3"
  },
  "language_info": {
   "codemirror_mode": {
    "name": "ipython",
    "version": 3
   },
   "file_extension": ".py",
   "mimetype": "text/x-python",
   "name": "python",
   "nbconvert_exporter": "python",
   "pygments_lexer": "ipython3",
   "version": "3.7.6"
  }
 },
 "nbformat": 4,
 "nbformat_minor": 4
}
