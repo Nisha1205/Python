{
 "cells": [
  {
   "cell_type": "markdown",
   "metadata": {},
   "source": [
    "# List, Loop and Logical expression\n",
    "List is Mutable ie. elements of lists can be changed"
   ]
  },
  {
   "cell_type": "code",
   "execution_count": 3,
   "metadata": {},
   "outputs": [],
   "source": [
    "#Create a List of values from 1 to 100\n",
    "ser=list(range(0,7))"
   ]
  },
  {
   "cell_type": "code",
   "execution_count": 4,
   "metadata": {},
   "outputs": [
    {
     "name": "stdout",
     "output_type": "stream",
     "text": [
      "[0, 1, 2, 3, 4, 5, 6]\n"
     ]
    }
   ],
   "source": [
    "print (ser)"
   ]
  },
  {
   "cell_type": "code",
   "execution_count": 5,
   "metadata": {},
   "outputs": [
    {
     "name": "stdout",
     "output_type": "stream",
     "text": [
      "[0, 1, 2, 3, 4, 5, 6, 7, 8, 9, 10]\n"
     ]
    }
   ],
   "source": [
    "ser=list(range(11))\n",
    "print(ser)"
   ]
  },
  {
   "cell_type": "code",
   "execution_count": 8,
   "metadata": {},
   "outputs": [
    {
     "name": "stdout",
     "output_type": "stream",
     "text": [
      "[5, 8, 11, 14, 17, 20, 23, 26, 29, 32, 35, 38, 41, 44, 47, 50]\n"
     ]
    }
   ],
   "source": [
    "ser=list(range(5,51,3))\n",
    "print(ser)"
   ]
  },
  {
   "cell_type": "code",
   "execution_count": 41,
   "metadata": {},
   "outputs": [],
   "source": [
    "#Creating More List\n",
    "students=['Rupesh Kumar Sinha','Heston Dsouza','Ankita','prashanth','soochana n b','sophia ayaz kagzi']\n"
   ]
  },
  {
   "cell_type": "code",
   "execution_count": 10,
   "metadata": {},
   "outputs": [
    {
     "name": "stdout",
     "output_type": "stream",
     "text": [
      "['Rupesh Kumar Sinha', 'Heston Dsouza', 'Ankita', 'prashanth', 'soochana n b', 'sophia ayaz kagzi']\n"
     ]
    }
   ],
   "source": [
    "print(students)"
   ]
  },
  {
   "cell_type": "code",
   "execution_count": 12,
   "metadata": {},
   "outputs": [
    {
     "name": "stdout",
     "output_type": "stream",
     "text": [
      "Rupesh Kumar Sinha\n",
      "Heston Dsouza\n",
      "Ankita\n",
      "prashanth\n",
      "soochana n b\n",
      "sophia ayaz kagzi\n"
     ]
    }
   ],
   "source": [
    "for candidate in students:\n",
    "    print(candidate)"
   ]
  },
  {
   "cell_type": "code",
   "execution_count": 14,
   "metadata": {},
   "outputs": [
    {
     "name": "stdout",
     "output_type": "stream",
     "text": [
      "Rupesh Kumar Sinha\n",
      "Heston Dsouza\n",
      "Ankita\n",
      "Prashanth\n",
      "Soochana N B\n",
      "SOPHIA AYAZ KAGZI\n"
     ]
    }
   ],
   "source": [
    "for candidate in students:\n",
    "    if candidate=='sophia ayaz kagzi':\n",
    "        print(candidate.upper())\n",
    "    else:\n",
    "        print(candidate.title())"
   ]
  },
  {
   "cell_type": "code",
   "execution_count": 22,
   "metadata": {},
   "outputs": [
    {
     "name": "stdout",
     "output_type": "stream",
     "text": [
      "Pawan\n",
      "Heston Dsouza\n",
      "ankita\n",
      "Prashanth\n",
      "Soochana N B\n",
      "SOPHIA AYAZ KAGZI\n"
     ]
    }
   ],
   "source": [
    "for candidate in students:\n",
    "    if candidate=='sophia ayaz kagzi':\n",
    "        print(candidate.upper())\n",
    "    elif candidate=='Ankita':\n",
    "        print(candidate.lower())\n",
    "    else:\n",
    "        print(candidate.title())"
   ]
  },
  {
   "cell_type": "code",
   "execution_count": 21,
   "metadata": {},
   "outputs": [
    {
     "name": "stdout",
     "output_type": "stream",
     "text": [
      "PAWAN\n",
      "Ankita\n",
      "sophia ayaz kagzi\n"
     ]
    }
   ],
   "source": [
    "print(students[0])\n",
    "print(students[2])\n",
    "print(students[5])"
   ]
  },
  {
   "cell_type": "code",
   "execution_count": 42,
   "metadata": {},
   "outputs": [],
   "source": [
    "#Updating individual element of List using index\n",
    "students[0]='PAWAN'"
   ]
  },
  {
   "cell_type": "code",
   "execution_count": 24,
   "metadata": {},
   "outputs": [
    {
     "name": "stdout",
     "output_type": "stream",
     "text": [
      "sophia ayaz kagzi\n"
     ]
    }
   ],
   "source": [
    "print(students[5])"
   ]
  },
  {
   "cell_type": "code",
   "execution_count": 27,
   "metadata": {},
   "outputs": [
    {
     "name": "stdout",
     "output_type": "stream",
     "text": [
      "9\n"
     ]
    }
   ],
   "source": [
    "#Identifying number of elements in the list\n",
    "print(len(students))"
   ]
  },
  {
   "cell_type": "code",
   "execution_count": 43,
   "metadata": {},
   "outputs": [],
   "source": [
    "#Use append() to add elements at the last to the list\n",
    "students.append('Amar')\n",
    "students.append('SAnGita')\n",
    "students.append('kiran kumar')"
   ]
  },
  {
   "cell_type": "code",
   "execution_count": 30,
   "metadata": {},
   "outputs": [
    {
     "name": "stdout",
     "output_type": "stream",
     "text": [
      "['rupesh kumar sinha', 'Heston Dsouza', 'Ankita', 'prashanth', 'soochana n b', 'sophia ayaz kagzi', 'Amar', 'SAnGita', 'kiran kumar']\n"
     ]
    }
   ],
   "source": [
    "print(students)"
   ]
  },
  {
   "cell_type": "code",
   "execution_count": 31,
   "metadata": {},
   "outputs": [],
   "source": [
    "students[0]='pawan'"
   ]
  },
  {
   "cell_type": "code",
   "execution_count": 32,
   "metadata": {},
   "outputs": [],
   "source": [
    "#Suppose there are 1000 elements which are multiplication of a value which user enters, in a list and you need to access\n",
    "#last 20 elements and print it, how to do it?\n",
    "\n",
    "mylist=range(1,1001)\n"
   ]
  },
  {
   "cell_type": "code",
   "execution_count": 34,
   "metadata": {},
   "outputs": [
    {
     "name": "stdout",
     "output_type": "stream",
     "text": [
      "There are total 1000  elemnets\n",
      "1000\n"
     ]
    }
   ],
   "source": [
    "l=len(mylist)\n",
    "print (\"There are total\",  l , \" elements\")\n",
    "print(mylist[999])"
   ]
  },
  {
   "cell_type": "code",
   "execution_count": 39,
   "metadata": {},
   "outputs": [
    {
     "name": "stdout",
     "output_type": "stream",
     "text": [
      "#  999 1000\n",
      "#  998 999\n",
      "#  997 998\n",
      "#  996 997\n",
      "#  995 996\n",
      "#  994 995\n",
      "#  993 994\n",
      "#  992 993\n",
      "#  991 992\n",
      "#  990 991\n",
      "#  989 990\n",
      "#  988 989\n",
      "#  987 988\n",
      "#  986 987\n",
      "#  985 986\n",
      "#  984 985\n",
      "#  983 984\n",
      "#  982 983\n",
      "#  981 982\n",
      "#  980 981\n",
      "#  979 980\n",
      "#  978 979\n",
      "#  977 978\n",
      "#  976 977\n",
      "#  975 976\n",
      "#  974 975\n",
      "#  973 974\n",
      "#  972 973\n",
      "#  971 972\n",
      "#  970 971\n",
      "#  969 970\n",
      "#  968 969\n",
      "#  967 968\n",
      "#  966 967\n",
      "#  965 966\n",
      "#  964 965\n",
      "#  963 964\n",
      "#  962 963\n",
      "#  961 962\n",
      "#  960 961\n",
      "#  959 960\n",
      "#  958 959\n",
      "#  957 958\n",
      "#  956 957\n",
      "#  955 956\n",
      "#  954 955\n",
      "#  953 954\n",
      "#  952 953\n",
      "#  951 952\n",
      "#  950 951\n",
      "#  949 950\n",
      "#  948 949\n",
      "#  947 948\n",
      "#  946 947\n",
      "#  945 946\n",
      "#  944 945\n",
      "#  943 944\n",
      "#  942 943\n",
      "#  941 942\n",
      "#  940 941\n",
      "#  939 940\n",
      "#  938 939\n",
      "#  937 938\n",
      "#  936 937\n",
      "#  935 936\n",
      "#  934 935\n",
      "#  933 934\n",
      "#  932 933\n",
      "#  931 932\n",
      "#  930 931\n",
      "#  929 930\n",
      "#  928 929\n",
      "#  927 928\n",
      "#  926 927\n",
      "#  925 926\n",
      "#  924 925\n",
      "#  923 924\n",
      "#  922 923\n",
      "#  921 922\n",
      "#  920 921\n",
      "#  919 920\n",
      "#  918 919\n",
      "#  917 918\n",
      "#  916 917\n",
      "#  915 916\n",
      "#  914 915\n",
      "#  913 914\n",
      "#  912 913\n",
      "#  911 912\n",
      "#  910 911\n",
      "#  909 910\n",
      "#  908 909\n",
      "#  907 908\n",
      "#  906 907\n",
      "#  905 906\n",
      "#  904 905\n",
      "#  903 904\n",
      "#  902 903\n",
      "#  901 902\n",
      "#  900 901\n",
      "#  899 900\n",
      "#  898 899\n",
      "#  897 898\n",
      "#  896 897\n",
      "#  895 896\n",
      "#  894 895\n",
      "#  893 894\n",
      "#  892 893\n",
      "#  891 892\n",
      "#  890 891\n",
      "#  889 890\n",
      "#  888 889\n",
      "#  887 888\n",
      "#  886 887\n",
      "#  885 886\n",
      "#  884 885\n",
      "#  883 884\n",
      "#  882 883\n",
      "#  881 882\n",
      "#  880 881\n",
      "#  879 880\n",
      "#  878 879\n",
      "#  877 878\n",
      "#  876 877\n",
      "#  875 876\n",
      "#  874 875\n",
      "#  873 874\n",
      "#  872 873\n",
      "#  871 872\n",
      "#  870 871\n",
      "#  869 870\n",
      "#  868 869\n",
      "#  867 868\n",
      "#  866 867\n",
      "#  865 866\n",
      "#  864 865\n",
      "#  863 864\n",
      "#  862 863\n",
      "#  861 862\n",
      "#  860 861\n",
      "#  859 860\n",
      "#  858 859\n",
      "#  857 858\n",
      "#  856 857\n",
      "#  855 856\n",
      "#  854 855\n",
      "#  853 854\n",
      "#  852 853\n",
      "#  851 852\n",
      "#  850 851\n",
      "#  849 850\n",
      "#  848 849\n",
      "#  847 848\n",
      "#  846 847\n",
      "#  845 846\n",
      "#  844 845\n",
      "#  843 844\n",
      "#  842 843\n",
      "#  841 842\n",
      "#  840 841\n",
      "#  839 840\n",
      "#  838 839\n",
      "#  837 838\n",
      "#  836 837\n",
      "#  835 836\n",
      "#  834 835\n",
      "#  833 834\n",
      "#  832 833\n",
      "#  831 832\n",
      "#  830 831\n",
      "#  829 830\n",
      "#  828 829\n",
      "#  827 828\n",
      "#  826 827\n",
      "#  825 826\n",
      "#  824 825\n",
      "#  823 824\n",
      "#  822 823\n",
      "#  821 822\n",
      "#  820 821\n",
      "#  819 820\n",
      "#  818 819\n",
      "#  817 818\n",
      "#  816 817\n",
      "#  815 816\n",
      "#  814 815\n",
      "#  813 814\n",
      "#  812 813\n",
      "#  811 812\n",
      "#  810 811\n",
      "#  809 810\n",
      "#  808 809\n",
      "#  807 808\n",
      "#  806 807\n",
      "#  805 806\n",
      "#  804 805\n",
      "#  803 804\n",
      "#  802 803\n",
      "#  801 802\n",
      "#  800 801\n",
      "#  799 800\n",
      "#  798 799\n",
      "#  797 798\n",
      "#  796 797\n",
      "#  795 796\n",
      "#  794 795\n",
      "#  793 794\n",
      "#  792 793\n",
      "#  791 792\n",
      "#  790 791\n",
      "#  789 790\n",
      "#  788 789\n",
      "#  787 788\n",
      "#  786 787\n",
      "#  785 786\n",
      "#  784 785\n",
      "#  783 784\n",
      "#  782 783\n",
      "#  781 782\n",
      "#  780 781\n",
      "#  779 780\n",
      "#  778 779\n",
      "#  777 778\n",
      "#  776 777\n",
      "#  775 776\n",
      "#  774 775\n",
      "#  773 774\n",
      "#  772 773\n",
      "#  771 772\n",
      "#  770 771\n",
      "#  769 770\n",
      "#  768 769\n",
      "#  767 768\n",
      "#  766 767\n",
      "#  765 766\n",
      "#  764 765\n",
      "#  763 764\n",
      "#  762 763\n",
      "#  761 762\n",
      "#  760 761\n",
      "#  759 760\n",
      "#  758 759\n",
      "#  757 758\n",
      "#  756 757\n",
      "#  755 756\n",
      "#  754 755\n",
      "#  753 754\n",
      "#  752 753\n",
      "#  751 752\n",
      "#  750 751\n",
      "#  749 750\n",
      "#  748 749\n",
      "#  747 748\n",
      "#  746 747\n",
      "#  745 746\n",
      "#  744 745\n",
      "#  743 744\n",
      "#  742 743\n",
      "#  741 742\n",
      "#  740 741\n",
      "#  739 740\n",
      "#  738 739\n",
      "#  737 738\n",
      "#  736 737\n",
      "#  735 736\n",
      "#  734 735\n",
      "#  733 734\n",
      "#  732 733\n",
      "#  731 732\n",
      "#  730 731\n",
      "#  729 730\n",
      "#  728 729\n",
      "#  727 728\n",
      "#  726 727\n",
      "#  725 726\n",
      "#  724 725\n",
      "#  723 724\n",
      "#  722 723\n",
      "#  721 722\n",
      "#  720 721\n",
      "#  719 720\n",
      "#  718 719\n",
      "#  717 718\n",
      "#  716 717\n",
      "#  715 716\n",
      "#  714 715\n",
      "#  713 714\n",
      "#  712 713\n",
      "#  711 712\n",
      "#  710 711\n",
      "#  709 710\n",
      "#  708 709\n",
      "#  707 708\n",
      "#  706 707\n",
      "#  705 706\n",
      "#  704 705\n",
      "#  703 704\n",
      "#  702 703\n",
      "#  701 702\n",
      "#  700 701\n",
      "#  699 700\n",
      "#  698 699\n",
      "#  697 698\n",
      "#  696 697\n",
      "#  695 696\n",
      "#  694 695\n",
      "#  693 694\n",
      "#  692 693\n",
      "#  691 692\n",
      "#  690 691\n",
      "#  689 690\n",
      "#  688 689\n",
      "#  687 688\n",
      "#  686 687\n",
      "#  685 686\n",
      "#  684 685\n",
      "#  683 684\n",
      "#  682 683\n",
      "#  681 682\n",
      "#  680 681\n",
      "#  679 680\n",
      "#  678 679\n",
      "#  677 678\n",
      "#  676 677\n",
      "#  675 676\n",
      "#  674 675\n",
      "#  673 674\n",
      "#  672 673\n",
      "#  671 672\n",
      "#  670 671\n",
      "#  669 670\n",
      "#  668 669\n",
      "#  667 668\n",
      "#  666 667\n",
      "#  665 666\n",
      "#  664 665\n",
      "#  663 664\n",
      "#  662 663\n",
      "#  661 662\n",
      "#  660 661\n",
      "#  659 660\n",
      "#  658 659\n",
      "#  657 658\n",
      "#  656 657\n",
      "#  655 656\n",
      "#  654 655\n",
      "#  653 654\n",
      "#  652 653\n",
      "#  651 652\n",
      "#  650 651\n",
      "#  649 650\n",
      "#  648 649\n",
      "#  647 648\n",
      "#  646 647\n",
      "#  645 646\n",
      "#  644 645\n",
      "#  643 644\n",
      "#  642 643\n",
      "#  641 642\n",
      "#  640 641\n",
      "#  639 640\n",
      "#  638 639\n",
      "#  637 638\n",
      "#  636 637\n",
      "#  635 636\n",
      "#  634 635\n",
      "#  633 634\n",
      "#  632 633\n",
      "#  631 632\n",
      "#  630 631\n",
      "#  629 630\n",
      "#  628 629\n",
      "#  627 628\n",
      "#  626 627\n",
      "#  625 626\n",
      "#  624 625\n",
      "#  623 624\n",
      "#  622 623\n",
      "#  621 622\n",
      "#  620 621\n",
      "#  619 620\n",
      "#  618 619\n",
      "#  617 618\n",
      "#  616 617\n",
      "#  615 616\n",
      "#  614 615\n",
      "#  613 614\n",
      "#  612 613\n",
      "#  611 612\n",
      "#  610 611\n",
      "#  609 610\n",
      "#  608 609\n",
      "#  607 608\n",
      "#  606 607\n",
      "#  605 606\n",
      "#  604 605\n",
      "#  603 604\n",
      "#  602 603\n",
      "#  601 602\n",
      "#  600 601\n",
      "#  599 600\n",
      "#  598 599\n",
      "#  597 598\n",
      "#  596 597\n",
      "#  595 596\n",
      "#  594 595\n",
      "#  593 594\n",
      "#  592 593\n",
      "#  591 592\n",
      "#  590 591\n",
      "#  589 590\n",
      "#  588 589\n",
      "#  587 588\n",
      "#  586 587\n",
      "#  585 586\n",
      "#  584 585\n",
      "#  583 584\n",
      "#  582 583\n",
      "#  581 582\n",
      "#  580 581\n",
      "#  579 580\n",
      "#  578 579\n",
      "#  577 578\n",
      "#  576 577\n",
      "#  575 576\n",
      "#  574 575\n",
      "#  573 574\n",
      "#  572 573\n",
      "#  571 572\n",
      "#  570 571\n",
      "#  569 570\n",
      "#  568 569\n",
      "#  567 568\n",
      "#  566 567\n",
      "#  565 566\n",
      "#  564 565\n",
      "#  563 564\n",
      "#  562 563\n",
      "#  561 562\n",
      "#  560 561\n",
      "#  559 560\n",
      "#  558 559\n",
      "#  557 558\n",
      "#  556 557\n",
      "#  555 556\n",
      "#  554 555\n",
      "#  553 554\n",
      "#  552 553\n",
      "#  551 552\n",
      "#  550 551\n",
      "#  549 550\n",
      "#  548 549\n",
      "#  547 548\n",
      "#  546 547\n",
      "#  545 546\n",
      "#  544 545\n",
      "#  543 544\n",
      "#  542 543\n",
      "#  541 542\n",
      "#  540 541\n",
      "#  539 540\n",
      "#  538 539\n",
      "#  537 538\n",
      "#  536 537\n",
      "#  535 536\n",
      "#  534 535\n",
      "#  533 534\n",
      "#  532 533\n",
      "#  531 532\n",
      "#  530 531\n",
      "#  529 530\n",
      "#  528 529\n",
      "#  527 528\n",
      "#  526 527\n",
      "#  525 526\n",
      "#  524 525\n",
      "#  523 524\n",
      "#  522 523\n",
      "#  521 522\n",
      "#  520 521\n",
      "#  519 520\n",
      "#  518 519\n",
      "#  517 518\n",
      "#  516 517\n",
      "#  515 516\n",
      "#  514 515\n",
      "#  513 514\n",
      "#  512 513\n",
      "#  511 512\n",
      "#  510 511\n",
      "#  509 510\n",
      "#  508 509\n",
      "#  507 508\n",
      "#  506 507\n",
      "#  505 506\n",
      "#  504 505\n",
      "#  503 504\n",
      "#  502 503\n",
      "#  501 502\n",
      "#  500 501\n"
     ]
    }
   ],
   "source": [
    "i=999\n",
    "while (i>=l/2):\n",
    "    print ( \"# \", i, mylist[i])\n",
    "    i=i-1"
   ]
  },
  {
   "cell_type": "code",
   "execution_count": 1,
   "metadata": {},
   "outputs": [
    {
     "name": "stdout",
     "output_type": "stream",
     "text": [
      "Enter a Number:1\n"
     ]
    }
   ],
   "source": [
    "numL=[]\n",
    "n=int(input(\"Enter a Number:\"))\n",
    "for i in range(1,1000):\n",
    " numL.append(n*i)\n",
    "    \n",
    "print (numL)"
   ]
  },
  {
   "cell_type": "code",
   "execution_count": null,
   "metadata": {},
   "outputs": [],
   "source": [
    "#Removing elements from the list and More programs related to All these concepts and slicing the elements\n",
    "#Next Class Tuples and Dictionary \n",
    "#1st set of Assignment in Tomorrows class\n"
   ]
  },
  {
   "cell_type": "code",
   "execution_count": 52,
   "metadata": {},
   "outputs": [
    {
     "name": "stdout",
     "output_type": "stream",
     "text": [
      "[]\n",
      "Enter a Number:2\n",
      "[2, 4, 6, 8, 10, 12, 14, 16, 18, 20, 22, 24, 26, 28, 30, 32, 34, 36, 38, 40, 42, 44, 46, 48, 50, 52, 54, 56, 58, 60, 62, 64, 66, 68, 70, 72, 74, 76, 78, 80, 82, 84, 86, 88, 90, 92, 94, 96, 98, 100, 102, 104, 106, 108, 110, 112, 114, 116, 118, 120, 122, 124, 126, 128, 130, 132, 134, 136, 138, 140, 142, 144, 146, 148, 150, 152, 154, 156, 158, 160, 162, 164, 166, 168, 170, 172, 174, 176, 178, 180, 182, 184, 186, 188, 190, 192, 194, 196, 198]\n"
     ]
    }
   ],
   "source": [
    "TabList=[]\n",
    "print(TabList)\n",
    "n1=int(input(\"Enter a Number:\"))\n",
    "for i in range(1,100):\n",
    "    TabList.append(i*n1)\n",
    "    ## All 1000 values got multiplied with 1 to 1000 and strored in TabList\n",
    "\n",
    "print(TabList)"
   ]
  },
  {
   "cell_type": "code",
   "execution_count": null,
   "metadata": {},
   "outputs": [],
   "source": [
    "#How to Access Elements of the List\n",
    "# use index to access elements of the List"
   ]
  },
  {
   "cell_type": "code",
   "execution_count": 11,
   "metadata": {},
   "outputs": [
    {
     "name": "stdout",
     "output_type": "stream",
     "text": [
      "['PAWAN', 'Heston Dsouza', 'Ankita', 'prashanth', 'soochana n b', 'sophia ayaz kagzi', 'Amar', 'SAnGita', 'kiran kumar']\n"
     ]
    }
   ],
   "source": [
    "print(students)"
   ]
  },
  {
   "cell_type": "code",
   "execution_count": 12,
   "metadata": {},
   "outputs": [
    {
     "name": "stdout",
     "output_type": "stream",
     "text": [
      "PAWAN\n",
      "prashanth\n"
     ]
    }
   ],
   "source": [
    "print(students[0])\n",
    "print(students[3])"
   ]
  },
  {
   "cell_type": "code",
   "execution_count": 13,
   "metadata": {},
   "outputs": [
    {
     "name": "stdout",
     "output_type": "stream",
     "text": [
      "kiran kumar\n",
      "10000\n"
     ]
    }
   ],
   "source": [
    "#Accessing last element \n",
    "print(students[-1])\n",
    "print(TabList[-1])"
   ]
  },
  {
   "cell_type": "code",
   "execution_count": 14,
   "metadata": {},
   "outputs": [
    {
     "name": "stdout",
     "output_type": "stream",
     "text": [
      "SAnGita\n"
     ]
    }
   ],
   "source": [
    "print(students[-2])"
   ]
  },
  {
   "cell_type": "markdown",
   "metadata": {},
   "source": [
    "<div>\n",
    "    \n",
    "  <font face=verdana color=red size=5>  \n",
    "Changing, Adding and Removing Elements from a List\n",
    "    </font>\n",
    "        \n",
    "</div>"
   ]
  },
  {
   "cell_type": "code",
   "execution_count": null,
   "metadata": {},
   "outputs": [],
   "source": [
    "#Modify the elements of the List"
   ]
  },
  {
   "cell_type": "code",
   "execution_count": 15,
   "metadata": {},
   "outputs": [],
   "source": [
    "students[0]='Pawan M'"
   ]
  },
  {
   "cell_type": "code",
   "execution_count": 17,
   "metadata": {},
   "outputs": [
    {
     "data": {
      "text/plain": [
       "['Pawan M',\n",
       " 'Heston Dsouza',\n",
       " 'Ankita',\n",
       " 'prashanth',\n",
       " 'soochana n b',\n",
       " 'sophia ayaz kagzi',\n",
       " 'Amar',\n",
       " 'SAnGita',\n",
       " 'kiran kumar']"
      ]
     },
     "execution_count": 17,
     "metadata": {},
     "output_type": "execute_result"
    }
   ],
   "source": [
    "students"
   ]
  },
  {
   "cell_type": "code",
   "execution_count": 18,
   "metadata": {},
   "outputs": [],
   "source": [
    "students[5]='SOPHIA AYAZ KAGZI'"
   ]
  },
  {
   "cell_type": "code",
   "execution_count": 19,
   "metadata": {},
   "outputs": [
    {
     "data": {
      "text/plain": [
       "['Pawan M',\n",
       " 'Heston Dsouza',\n",
       " 'Ankita',\n",
       " 'prashanth',\n",
       " 'soochana n b',\n",
       " 'SOPHIA AYAZ KAGZI',\n",
       " 'Amar',\n",
       " 'SAnGita',\n",
       " 'kiran kumar']"
      ]
     },
     "execution_count": 19,
     "metadata": {},
     "output_type": "execute_result"
    }
   ],
   "source": [
    "students"
   ]
  },
  {
   "cell_type": "markdown",
   "metadata": {},
   "source": [
    "# Adding a new element to the list ...by use of append() one can add value at the last of the List\n",
    "# ... insert() gives flexibility to add value at any place in the list"
   ]
  },
  {
   "cell_type": "code",
   "execution_count": 47,
   "metadata": {},
   "outputs": [],
   "source": [
    "students.append('surya')"
   ]
  },
  {
   "cell_type": "code",
   "execution_count": 21,
   "metadata": {},
   "outputs": [
    {
     "name": "stdout",
     "output_type": "stream",
     "text": [
      "['Pawan M', 'Heston Dsouza', 'Ankita', 'prashanth', 'soochana n b', 'SOPHIA AYAZ KAGZI', 'Amar', 'SAnGita', 'kiran kumar', 'surya']\n"
     ]
    }
   ],
   "source": [
    "print(students)"
   ]
  },
  {
   "cell_type": "code",
   "execution_count": 46,
   "metadata": {},
   "outputs": [
    {
     "name": "stdout",
     "output_type": "stream",
     "text": [
      "['Nijar das', 'PAWAN', 'Heston Dsouza', 'Ankita', 'prashanth', 'soochana n b', 'sophia ayaz kagzi', 'Amar', 'SAnGita', 'rupesh kumar sinha', 'kiran kumar']\n"
     ]
    }
   ],
   "source": [
    "#Use of insert()\n",
    "students.insert(0,'Nijar das')\n",
    "print(students)"
   ]
  },
  {
   "cell_type": "code",
   "execution_count": 45,
   "metadata": {},
   "outputs": [
    {
     "name": "stdout",
     "output_type": "stream",
     "text": [
      "['PAWAN', 'Heston Dsouza', 'Ankita', 'prashanth', 'soochana n b', 'sophia ayaz kagzi', 'Amar', 'SAnGita', 'rupesh kumar sinha', 'kiran kumar']\n"
     ]
    }
   ],
   "source": [
    "students.insert(-1,'rupesh kumar sinha')\n",
    "print(students)"
   ]
  },
  {
   "cell_type": "markdown",
   "metadata": {},
   "source": [
    "<div>\n",
    "    <hr><hr>\n",
    "    <font face=\"Segoe Print\" size=5 color=red>Removing Elements from the List <Font color=orange><br>\n",
    "        del() ...pop() ... remove()</font></font>\n",
    "    <hr><hr>\n",
    " </div>"
   ]
  },
  {
   "cell_type": "code",
   "execution_count": 24,
   "metadata": {},
   "outputs": [
    {
     "name": "stdout",
     "output_type": "stream",
     "text": [
      "['Nijar das', 'Pawan M', 'Heston Dsouza', 'Ankita', 'prashanth', 'soochana n b', 'SOPHIA AYAZ KAGZI', 'Amar', 'SAnGita', 'kiran kumar', 'surya']\n"
     ]
    }
   ],
   "source": [
    "del students[-2]    # use del carefully, beucase one value got deleted you will not be able to trace it back\n",
    "print(students)"
   ]
  },
  {
   "cell_type": "code",
   "execution_count": 33,
   "metadata": {},
   "outputs": [],
   "source": [
    "#pop() by default removes element from the last and it can be stored in variable\n",
    "proj_sub=[]\n"
   ]
  },
  {
   "cell_type": "code",
   "execution_count": 40,
   "metadata": {},
   "outputs": [
    {
     "name": "stdout",
     "output_type": "stream",
     "text": [
      "['Nijar das', 'Pawan M']\n",
      "['SAnGita', 'Amar', 'SOPHIA AYAZ KAGZI', 'soochana n b', 'prashanth', 'Ankita', 'Heston Dsouza']\n"
     ]
    }
   ],
   "source": [
    "proj_sub.append(students.pop())\n",
    "print(students)\n",
    "print(proj_sub)"
   ]
  },
  {
   "cell_type": "code",
   "execution_count": 48,
   "metadata": {},
   "outputs": [
    {
     "name": "stdout",
     "output_type": "stream",
     "text": [
      "['Nijar das', 'PAWAN', 'Heston Dsouza', 'Ankita', 'prashanth', 'soochana n b', 'sophia ayaz kagzi', 'Amar', 'SAnGita', 'rupesh kumar sinha', 'kiran kumar', 'surya']\n"
     ]
    }
   ],
   "source": [
    "print(students)"
   ]
  },
  {
   "cell_type": "code",
   "execution_count": 49,
   "metadata": {},
   "outputs": [],
   "source": [
    "#Removing elements by values\n",
    "students.remove('rupesh kumar sinha')"
   ]
  },
  {
   "cell_type": "code",
   "execution_count": 50,
   "metadata": {},
   "outputs": [
    {
     "name": "stdout",
     "output_type": "stream",
     "text": [
      "['Nijar das', 'PAWAN', 'Heston Dsouza', 'Ankita', 'prashanth', 'soochana n b', 'sophia ayaz kagzi', 'Amar', 'SAnGita', 'kiran kumar', 'surya']\n"
     ]
    }
   ],
   "source": [
    "print(students)"
   ]
  },
  {
   "cell_type": "markdown",
   "metadata": {},
   "source": [
    "# Organizing a List    ... sort()  ... sorted()\n",
    "\n",
    "sort()... it's dangerous use it when no chronological order in your data\n",
    "sorted()... safe command"
   ]
  },
  {
   "cell_type": "code",
   "execution_count": 53,
   "metadata": {},
   "outputs": [],
   "source": [
    "students.sort()"
   ]
  },
  {
   "cell_type": "code",
   "execution_count": 55,
   "metadata": {},
   "outputs": [
    {
     "name": "stdout",
     "output_type": "stream",
     "text": [
      "['Amar', 'Ankita', 'Heston Dsouza', 'Nijar das', 'PAWAN', 'SAnGita', 'kiran kumar', 'prashanth', 'soochana n b', 'sophia ayaz kagzi', 'surya']\n"
     ]
    }
   ],
   "source": [
    "print(students)"
   ]
  },
  {
   "cell_type": "code",
   "execution_count": 56,
   "metadata": {},
   "outputs": [],
   "source": [
    "students.sort(reverse=True)"
   ]
  },
  {
   "cell_type": "code",
   "execution_count": 57,
   "metadata": {},
   "outputs": [
    {
     "name": "stdout",
     "output_type": "stream",
     "text": [
      "['surya', 'sophia ayaz kagzi', 'soochana n b', 'prashanth', 'kiran kumar', 'SAnGita', 'PAWAN', 'Nijar das', 'Heston Dsouza', 'Ankita', 'Amar']\n"
     ]
    }
   ],
   "source": [
    "print(students)"
   ]
  },
  {
   "cell_type": "code",
   "execution_count": 60,
   "metadata": {},
   "outputs": [
    {
     "name": "stdout",
     "output_type": "stream",
     "text": [
      "['Amar', 'Ankita', 'Heston Dsouza', 'Nijar das', 'PAWAN', 'SAnGita', 'kiran kumar', 'prashanth', 'soochana n b', 'sophia ayaz kagzi', 'surya']\n"
     ]
    }
   ],
   "source": [
    "students.sort()\n",
    "print(students)"
   ]
  },
  {
   "cell_type": "code",
   "execution_count": null,
   "metadata": {},
   "outputs": [],
   "source": [
    "#Slicing and Simple statisctical function min() max() and sum()"
   ]
  }
 ],
 "metadata": {
  "kernelspec": {
   "display_name": "Python 3",
   "language": "python",
   "name": "python3"
  },
  "language_info": {
   "codemirror_mode": {
    "name": "ipython",
    "version": 3
   },
   "file_extension": ".py",
   "mimetype": "text/x-python",
   "name": "python",
   "nbconvert_exporter": "python",
   "pygments_lexer": "ipython3",
   "version": "3.7.6"
  }
 },
 "nbformat": 4,
 "nbformat_minor": 4
}
