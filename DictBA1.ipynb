{
 "cells": [
  {
   "cell_type": "markdown",
   "metadata": {},
   "source": [
    "# Dictionary\n",
    "#Dictionary has Key and Value pair and we use {} to crate it ...."
   ]
  },
  {
   "cell_type": "code",
   "execution_count": 20,
   "metadata": {},
   "outputs": [
    {
     "name": "stdout",
     "output_type": "stream",
     "text": [
      "{'na': 'Kalia', 'actor': 'Amitabh Bacchan', 'villain': 'Amjad Khan', 'Year': 1991}\n"
     ]
    }
   ],
   "source": [
    "#Creating a Simple Dictionary\n",
    "\n",
    "movie={'na':'Kalia','actor':'Amitabh Bacchan','villain':'Amjad Khan' ,'Year':1991}\n",
    "#type(movie)\n",
    "print(movie)"
   ]
  },
  {
   "cell_type": "code",
   "execution_count": 6,
   "metadata": {},
   "outputs": [
    {
     "name": "stdout",
     "output_type": "stream",
     "text": [
      "1991\n"
     ]
    }
   ],
   "source": [
    "print(movie['Year'])"
   ]
  },
  {
   "cell_type": "code",
   "execution_count": 19,
   "metadata": {},
   "outputs": [
    {
     "name": "stdout",
     "output_type": "stream",
     "text": [
      "In movie Kalia , Amitabh Bacchan  was actor and the villain was Amjad Khan!!!!"
     ]
    }
   ],
   "source": [
    "print('In movie' ,movie['na'],',', movie['actor'],' was actor and the villain was', movie['villain'],end='!!!!')"
   ]
  },
  {
   "cell_type": "code",
   "execution_count": 22,
   "metadata": {
    "scrolled": false
   },
   "outputs": [
    {
     "name": "stdout",
     "output_type": "stream",
     "text": [
      "{'na': 'Kalia', 'actor': 'Amitabh Bacchan', 'villain': 'Amjad Khan', 'Year': 1991, 'actoress': 'Pravin Boby', 'actress': 'Pravin Boby'}\n"
     ]
    }
   ],
   "source": [
    "movie['actress']='Pravin Boby'\n"
   ]
  },
  {
   "cell_type": "code",
   "execution_count": 25,
   "metadata": {
    "scrolled": true
   },
   "outputs": [
    {
     "name": "stdout",
     "output_type": "stream",
     "text": [
      "{'na': 'Kalia', 'actor': 'Amitabh Bacchan', 'villain': 'Amjad Khan', 'Year': 1991, 'actress': 'Pravin Boby'}\n"
     ]
    }
   ],
   "source": [
    "print(movie)\n"
   ]
  },
  {
   "cell_type": "code",
   "execution_count": 26,
   "metadata": {},
   "outputs": [],
   "source": [
    "movie['actor']='AB'"
   ]
  },
  {
   "cell_type": "code",
   "execution_count": 27,
   "metadata": {},
   "outputs": [
    {
     "name": "stdout",
     "output_type": "stream",
     "text": [
      "{'na': 'Kalia', 'actor': 'AB', 'villain': 'Amjad Khan', 'Year': 1991, 'actress': 'Pravin Boby'}\n"
     ]
    }
   ],
   "source": [
    "print(movie)"
   ]
  },
  {
   "cell_type": "code",
   "execution_count": null,
   "metadata": {},
   "outputs": [],
   "source": [
    "#Creating an empty Dictionary"
   ]
  },
  {
   "cell_type": "code",
   "execution_count": 28,
   "metadata": {},
   "outputs": [],
   "source": [
    "pr={}"
   ]
  },
  {
   "cell_type": "code",
   "execution_count": 29,
   "metadata": {},
   "outputs": [
    {
     "name": "stdout",
     "output_type": "stream",
     "text": [
      "{}\n"
     ]
    }
   ],
   "source": [
    "#No value in the Dictionary\n",
    "print(pr)"
   ]
  },
  {
   "cell_type": "code",
   "execution_count": 34,
   "metadata": {},
   "outputs": [],
   "source": [
    "pr['code']=101\n",
    "pr['na']='Pencil'\n",
    "pr['pr']=5\n",
    "pr['desc']='Camlin'"
   ]
  },
  {
   "cell_type": "code",
   "execution_count": 36,
   "metadata": {
    "scrolled": true
   },
   "outputs": [
    {
     "name": "stdout",
     "output_type": "stream",
     "text": [
      "{'code': 101, 'na': 'Pencil', 'pr': 6, 'desc': 'Camlin'}\n"
     ]
    }
   ],
   "source": [
    "print(pr)"
   ]
  },
  {
   "cell_type": "code",
   "execution_count": 32,
   "metadata": {},
   "outputs": [
    {
     "name": "stdout",
     "output_type": "stream",
     "text": [
      "dict_values([101, 'Pencil', 5, 'Camlin'])\n"
     ]
    }
   ],
   "source": [
    "print(pr.values())"
   ]
  },
  {
   "cell_type": "code",
   "execution_count": 33,
   "metadata": {},
   "outputs": [
    {
     "name": "stdout",
     "output_type": "stream",
     "text": [
      "dict_keys(['code', 'na', 'pr', 'desc'])\n"
     ]
    }
   ],
   "source": [
    "print(pr.keys())"
   ]
  },
  {
   "cell_type": "code",
   "execution_count": 35,
   "metadata": {},
   "outputs": [],
   "source": [
    "pr['pr']=6"
   ]
  },
  {
   "cell_type": "code",
   "execution_count": 37,
   "metadata": {},
   "outputs": [
    {
     "name": "stdout",
     "output_type": "stream",
     "text": [
      "{'code': 101, 'na': 'Pencil', 'pr': 6, 'desc': 'Camlin'}\n"
     ]
    }
   ],
   "source": [
    "print(pr)"
   ]
  },
  {
   "cell_type": "code",
   "execution_count": 44,
   "metadata": {},
   "outputs": [
    {
     "name": "stdout",
     "output_type": "stream",
     "text": [
      "dict_keys(['na', 'actor', 'villain', 'Year', 'actress']) \n",
      " dict_values(['Kalia', 'AB', 'Amjad Khan', 1991, 'Pravin Boby'])\n"
     ]
    }
   ],
   "source": [
    "#Getting all the Keys or Values from a dictionay\n",
    "\n",
    "print(movie.keys(),'\\n', movie.values())"
   ]
  },
  {
   "cell_type": "code",
   "execution_count": 48,
   "metadata": {},
   "outputs": [
    {
     "name": "stdout",
     "output_type": "stream",
     "text": [
      "code  -->  101\n",
      "na  -->  Pencil\n",
      "pr  -->  6\n",
      "desc  -->  Camlin\n"
     ]
    }
   ],
   "source": [
    "#Looping through values of a dictionary\n",
    "\n",
    "for keys, values in pr.items():\n",
    "    print(keys, ' --> ', values)\n"
   ]
  },
  {
   "cell_type": "code",
   "execution_count": 49,
   "metadata": {},
   "outputs": [],
   "source": [
    "stdHob={'hima':'Cooking','sophiya':'painting','Harshith':'Biking','hasifa':'cooking','Nisha':'Singing','Sirkanth':'singing'}"
   ]
  },
  {
   "cell_type": "code",
   "execution_count": 50,
   "metadata": {},
   "outputs": [
    {
     "name": "stdout",
     "output_type": "stream",
     "text": [
      "{'hima': 'Cooking', 'sophiya': 'painting', 'Harshith': 'Biking', 'hasifa': 'cooking', 'Nisha': 'Singing', 'Sirkanth': 'singing'}\n"
     ]
    }
   ],
   "source": [
    "print(stdHob)"
   ]
  },
  {
   "cell_type": "code",
   "execution_count": 72,
   "metadata": {},
   "outputs": [],
   "source": [
    "#Four products details in 4 dictionaries\n",
    "pr1={'code': 101, 'na': 'Pencil', 'pr': 6, 'desc': 'Camlin'}\n",
    "pr2={'code': 102, 'na': 'Pen', 'pr': 25, 'desc': 'Reynold'}\n",
    "pr3={'code': 103, 'na': 'Notebook', 'pr': 50, 'desc': 'ITC'}\n",
    "pr4={'code': 104, 'na': 'Diary', 'pr': 150, 'desc': 'New Year Gift'}\n",
    "#pr5=[1,2,3,4]"
   ]
  },
  {
   "cell_type": "code",
   "execution_count": 76,
   "metadata": {},
   "outputs": [],
   "source": [
    "#All products from dictionary below now\n",
    "prods=[pr1,pr2,pr3,pr4]"
   ]
  },
  {
   "cell_type": "code",
   "execution_count": 61,
   "metadata": {},
   "outputs": [
    {
     "name": "stdout",
     "output_type": "stream",
     "text": [
      "{'code': 103, 'na': 'Notebook', 'pr': 50, 'desc': 'ITC'}\n"
     ]
    }
   ],
   "source": [
    "#print(prods)\n",
    "print(prods[2])"
   ]
  },
  {
   "cell_type": "code",
   "execution_count": 66,
   "metadata": {},
   "outputs": [
    {
     "name": "stdout",
     "output_type": "stream",
     "text": [
      "<class 'list'>\n",
      "-----------------------------\n",
      "<class 'dict'>\n",
      "<class 'dict'>\n",
      "<class 'dict'>\n",
      "<class 'dict'>\n"
     ]
    }
   ],
   "source": [
    "#Looping through all the elements\n",
    "print(type(prods))\n",
    "print('-----------------------------')\n",
    "for i in prods:\n",
    "    print (type(i))"
   ]
  },
  {
   "cell_type": "code",
   "execution_count": 82,
   "metadata": {
    "scrolled": true
   },
   "outputs": [
    {
     "name": "stdout",
     "output_type": "stream",
     "text": [
      "<class 'list'>\n",
      "====================\n",
      "Enter a code to search the product:104\n",
      "{'code': 104, 'na': 'Diary', 'pr': 150, 'desc': 'New Year Gift'}\n"
     ]
    }
   ],
   "source": [
    "#Looping through all the elemnts of \n",
    "print(type(prods))\n",
    "print('====================')\n",
    "flag=0\n",
    "ser=int(input(\"Enter a code to search the product:\"))\n",
    "for i in prods:\n",
    "    if(ser==i['code']):\n",
    "        print(i)\n",
    "        flag=1\n",
    "        #print (type(i))\n",
    "\n",
    "if(flag==0):\n",
    "    print(\"Sorry the product with code\", ser , \" does not exists!\")\n",
    "    \n"
   ]
  },
  {
   "cell_type": "code",
   "execution_count": null,
   "metadata": {},
   "outputs": [],
   "source": []
  },
  {
   "cell_type": "code",
   "execution_count": null,
   "metadata": {},
   "outputs": [],
   "source": []
  }
 ],
 "metadata": {
  "kernelspec": {
   "display_name": "Python 3",
   "language": "python",
   "name": "python3"
  },
  "language_info": {
   "codemirror_mode": {
    "name": "ipython",
    "version": 3
   },
   "file_extension": ".py",
   "mimetype": "text/x-python",
   "name": "python",
   "nbconvert_exporter": "python",
   "pygments_lexer": "ipython3",
   "version": "3.7.6"
  }
 },
 "nbformat": 4,
 "nbformat_minor": 4
}
