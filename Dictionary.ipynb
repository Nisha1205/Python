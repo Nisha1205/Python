{
 "cells": [
  {
   "cell_type": "markdown",
   "metadata": {},
   "source": [
    "# Dictionary\n",
    "Creating a simple Dictionary"
   ]
  },
  {
   "cell_type": "code",
   "execution_count": 6,
   "metadata": {},
   "outputs": [],
   "source": [
    "#It is a collections of key and value pairs to store the data. Here we use Flower braces or curly braces i.e. {} \n",
    "\n",
    "faculty={'na':'Rupesh Sinha','sub':'DAP','sem':3}\n",
    "#print(faculty)\n",
    "#print(type(faculty))\n"
   ]
  },
  {
   "cell_type": "code",
   "execution_count": 11,
   "metadata": {},
   "outputs": [
    {
     "name": "stdout",
     "output_type": "stream",
     "text": [
      "Rupesh Sinha  is teaching in sem  3 subject : DAP\n"
     ]
    }
   ],
   "source": [
    "#Access the elements of the Dictionary\n",
    "print(faculty['na'], ' is teaching in sem ', faculty['sem'], 'subject :', faculty['sub'])"
   ]
  },
  {
   "cell_type": "code",
   "execution_count": null,
   "metadata": {},
   "outputs": [],
   "source": [
    "#Create a Dictionary for student name, Hobby and City  and print the details."
   ]
  },
  {
   "cell_type": "code",
   "execution_count": 12,
   "metadata": {},
   "outputs": [],
   "source": [
    "#Creating an empty Dictionary\n",
    "bike={}         #an empty Dict\n",
    "\n",
    "bike['na']='Ben'\n",
    "bike['model']=\"Bullet\""
   ]
  },
  {
   "cell_type": "code",
   "execution_count": 13,
   "metadata": {},
   "outputs": [
    {
     "name": "stdout",
     "output_type": "stream",
     "text": [
      "{'na': 'Ben', 'model': 'Bullet'}\n"
     ]
    }
   ],
   "source": [
    "print(bike)"
   ]
  },
  {
   "cell_type": "code",
   "execution_count": 14,
   "metadata": {},
   "outputs": [],
   "source": [
    "bike['price']=250000"
   ]
  },
  {
   "cell_type": "code",
   "execution_count": 15,
   "metadata": {},
   "outputs": [
    {
     "name": "stdout",
     "output_type": "stream",
     "text": [
      "{'na': 'Ben', 'model': 'Bullet', 'price': 250000}\n"
     ]
    }
   ],
   "source": [
    "print(bike)"
   ]
  },
  {
   "cell_type": "code",
   "execution_count": 16,
   "metadata": {},
   "outputs": [],
   "source": [
    "#Now let us see another example!\n",
    "\n",
    "hobbies={'sks':'Gardening','AR':'Cooking','DL':'Painting','CJ':'Biking','NCS':'Travelling'}"
   ]
  },
  {
   "cell_type": "code",
   "execution_count": 17,
   "metadata": {},
   "outputs": [
    {
     "name": "stdout",
     "output_type": "stream",
     "text": [
      "{'sks': 'Gardening', 'AR': 'Cooking', 'DL': 'Painting', 'CJ': 'Biking', 'NCS': 'Travelling'}\n"
     ]
    }
   ],
   "source": [
    "print(hobbies)"
   ]
  },
  {
   "cell_type": "code",
   "execution_count": 18,
   "metadata": {},
   "outputs": [
    {
     "name": "stdout",
     "output_type": "stream",
     "text": [
      "{'na': 'Ben', 'model': 'Bullet', 'price': 250000}\n"
     ]
    }
   ],
   "source": [
    "print(bike)"
   ]
  },
  {
   "cell_type": "code",
   "execution_count": 19,
   "metadata": {},
   "outputs": [
    {
     "name": "stdout",
     "output_type": "stream",
     "text": [
      "Ben\n"
     ]
    }
   ],
   "source": [
    "print(bike['na'])"
   ]
  },
  {
   "cell_type": "code",
   "execution_count": 20,
   "metadata": {},
   "outputs": [],
   "source": [
    "bike['na']='SKS'"
   ]
  },
  {
   "cell_type": "code",
   "execution_count": 21,
   "metadata": {},
   "outputs": [
    {
     "name": "stdout",
     "output_type": "stream",
     "text": [
      "{'na': 'SKS', 'model': 'Bullet', 'price': 250000}\n"
     ]
    }
   ],
   "source": [
    "print(bike)"
   ]
  },
  {
   "cell_type": "code",
   "execution_count": 22,
   "metadata": {},
   "outputs": [],
   "source": [
    "bike['ins']='Valid up to 2021 Apr'"
   ]
  },
  {
   "cell_type": "code",
   "execution_count": 23,
   "metadata": {},
   "outputs": [
    {
     "name": "stdout",
     "output_type": "stream",
     "text": [
      "{'na': 'SKS', 'model': 'Bullet', 'price': 250000, 'ins': 'Valid up to 2021 Apr'}\n"
     ]
    }
   ],
   "source": [
    "print(bike)"
   ]
  },
  {
   "cell_type": "code",
   "execution_count": 28,
   "metadata": {},
   "outputs": [],
   "source": [
    "bike['name']='Ben'"
   ]
  },
  {
   "cell_type": "code",
   "execution_count": 25,
   "metadata": {},
   "outputs": [
    {
     "name": "stdout",
     "output_type": "stream",
     "text": [
      "{'na': 'SKS', 'model': 'Bullet', 'price': 250000, 'ins': 'Valid up to 2021 Apr', 'name': 'Ben'}\n"
     ]
    }
   ],
   "source": [
    "print(bike)"
   ]
  },
  {
   "cell_type": "code",
   "execution_count": 29,
   "metadata": {},
   "outputs": [],
   "source": [
    "del(bike['name'])\n"
   ]
  },
  {
   "cell_type": "code",
   "execution_count": 30,
   "metadata": {},
   "outputs": [
    {
     "name": "stdout",
     "output_type": "stream",
     "text": [
      "{'na': 'SKS', 'model': 'Bullet', 'price': 250000, 'ins': 'Valid up to 2021 Apr'}\n"
     ]
    }
   ],
   "source": [
    "print(bike)"
   ]
  },
  {
   "cell_type": "code",
   "execution_count": 31,
   "metadata": {},
   "outputs": [],
   "source": [
    "bike['cc']=350"
   ]
  },
  {
   "cell_type": "code",
   "execution_count": 32,
   "metadata": {},
   "outputs": [
    {
     "name": "stdout",
     "output_type": "stream",
     "text": [
      "{'na': 'SKS', 'model': 'Bullet', 'price': 250000, 'ins': 'Valid up to 2021 Apr', 'cc': 350}\n"
     ]
    }
   ],
   "source": [
    "print(bike)"
   ]
  },
  {
   "cell_type": "code",
   "execution_count": 33,
   "metadata": {},
   "outputs": [],
   "source": [
    "bike['cc']=450"
   ]
  },
  {
   "cell_type": "code",
   "execution_count": 34,
   "metadata": {},
   "outputs": [
    {
     "name": "stdout",
     "output_type": "stream",
     "text": [
      "{'na': 'SKS', 'model': 'Bullet', 'price': 250000, 'ins': 'Valid up to 2021 Apr', 'cc': 450}\n"
     ]
    }
   ],
   "source": [
    "print(bike)"
   ]
  },
  {
   "cell_type": "code",
   "execution_count": 42,
   "metadata": {},
   "outputs": [
    {
     "name": "stdout",
     "output_type": "stream",
     "text": [
      "na  :  SKS\n",
      "model  :  Bullet\n",
      "price  :  250000\n",
      "ins  :  Valid up to 2021 Apr\n",
      "cc  :  450\n"
     ]
    }
   ],
   "source": [
    "#Looping through the values in the list\n",
    "\n",
    "for key, values in bike.items():\n",
    "    print (key, \" : \", values)\n",
    "    #print(values)"
   ]
  },
  {
   "cell_type": "code",
   "execution_count": null,
   "metadata": {},
   "outputs": [],
   "source": [
    "#Create multiple Dictionary for same set of keys, put all these dictionary into a list \n",
    "#and loop through all the values"
   ]
  },
  {
   "cell_type": "code",
   "execution_count": 52,
   "metadata": {},
   "outputs": [
    {
     "name": "stdout",
     "output_type": "stream",
     "text": [
      "Enter code to search :10\n",
      "Sorry,The item does not exist!\n"
     ]
    }
   ],
   "source": [
    "pr1={'code':1,'na':'pen','pr':25,'disc':.25}\n",
    "pr2={'code':2,'na':'pencil','pr':5,'disc':.10}\n",
    "pr3={'code':3,'na':'eraser','pr':2,'disc':.05}\n",
    "pr4={'code':4,'na':'diary','pr':125,'disc':.15}\n",
    "pr5={'code':5,'na':'notebook','pr':50,'disc':.25}\n",
    "\n",
    "st=[pr1,pr2,pr3,pr4,pr5]\n",
    "flag=0\n",
    "ser=(int(input(\"Enter code to search :\")))\n",
    "for i in st:\n",
    "    #print (i)\n",
    "    for k, v in i.items():\n",
    "        if( v==ser):\n",
    "            print(k ,v)\n",
    "            flag=1\n",
    "      \n",
    "    \n",
    "if(flag==0):\n",
    "    print(\"Sorry,The item does not exist!\")\n",
    "            \n"
   ]
  },
  {
   "cell_type": "code",
   "execution_count": null,
   "metadata": {},
   "outputs": [],
   "source": []
  },
  {
   "cell_type": "code",
   "execution_count": null,
   "metadata": {},
   "outputs": [],
   "source": []
  }
 ],
 "metadata": {
  "kernelspec": {
   "display_name": "Python 3",
   "language": "python",
   "name": "python3"
  },
  "language_info": {
   "codemirror_mode": {
    "name": "ipython",
    "version": 3
   },
   "file_extension": ".py",
   "mimetype": "text/x-python",
   "name": "python",
   "nbconvert_exporter": "python",
   "pygments_lexer": "ipython3",
   "version": "3.7.6"
  }
 },
 "nbformat": 4,
 "nbformat_minor": 4
}
